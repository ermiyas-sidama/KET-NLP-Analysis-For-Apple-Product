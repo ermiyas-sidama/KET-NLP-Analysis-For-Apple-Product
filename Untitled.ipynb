{
 "cells": [
  {
   "cell_type": "markdown",
   "id": "c381a8f6-199b-44f6-a9e5-43eede2c4bcc",
   "metadata": {},
   "source": [
    "# KET Apple Marketing Team"
   ]
  },
  {
   "cell_type": "code",
   "execution_count": 732,
   "id": "aa7801e8-f5ce-46d4-9523-1d85763982d3",
   "metadata": {},
   "outputs": [
    {
     "name": "stdout",
     "output_type": "stream",
     "text": [
      "The autoreload extension is already loaded. To reload it, use:\n",
      "  %reload_ext autoreload\n"
     ]
    }
   ],
   "source": [
    "%load_ext autoreload\n",
    "%autoreload 2\n",
    "\n",
    "import os\n",
    "import sys\n",
    "module_path = os.path.abspath(os.path.join(os.pardir, os.pardir))\n",
    "if module_path not in sys.path:\n",
    "    sys.path.append(module_path)\n",
    "    \n",
    "import pandas as pd\n",
    "import nltk\n",
    "from nltk.stem import PorterStemmer\n",
    "from nltk.probability import FreqDist\n",
    "from nltk.corpus import stopwords\n",
    "from nltk.tokenize import regexp_tokenize, word_tokenize, RegexpTokenizer\n",
    "import matplotlib.pyplot as plt\n",
    "import string\n",
    "import re"
   ]
  },
  {
   "cell_type": "code",
   "execution_count": 733,
   "id": "6cf6d03b-0de2-41a4-a7ce-6c958fdba339",
   "metadata": {},
   "outputs": [],
   "source": [
    "df = pd.read_csv('data/judge-1377884607_tweet_product_company.csv', encoding='latin1')\n"
   ]
  },
  {
   "cell_type": "code",
   "execution_count": 734,
   "id": "5025fa93-7989-468a-930c-e942d68ae436",
   "metadata": {},
   "outputs": [
    {
     "data": {
      "text/html": [
       "<div>\n",
       "<style scoped>\n",
       "    .dataframe tbody tr th:only-of-type {\n",
       "        vertical-align: middle;\n",
       "    }\n",
       "\n",
       "    .dataframe tbody tr th {\n",
       "        vertical-align: top;\n",
       "    }\n",
       "\n",
       "    .dataframe thead th {\n",
       "        text-align: right;\n",
       "    }\n",
       "</style>\n",
       "<table border=\"1\" class=\"dataframe\">\n",
       "  <thead>\n",
       "    <tr style=\"text-align: right;\">\n",
       "      <th></th>\n",
       "      <th>tweet_text</th>\n",
       "      <th>emotion_in_tweet_is_directed_at</th>\n",
       "      <th>is_there_an_emotion_directed_at_a_brand_or_product</th>\n",
       "    </tr>\n",
       "  </thead>\n",
       "  <tbody>\n",
       "    <tr>\n",
       "      <th>0</th>\n",
       "      <td>.@wesley83 I have a 3G iPhone. After 3 hrs tweeting at #RISE_Austin, it was dead!  I need to upgrade. Plugin stations at #SXSW.</td>\n",
       "      <td>iPhone</td>\n",
       "      <td>Negative emotion</td>\n",
       "    </tr>\n",
       "    <tr>\n",
       "      <th>1</th>\n",
       "      <td>@jessedee Know about @fludapp ? Awesome iPad/iPhone app that you'll likely appreciate for its design. Also, they're giving free Ts at #SXSW</td>\n",
       "      <td>iPad or iPhone App</td>\n",
       "      <td>Positive emotion</td>\n",
       "    </tr>\n",
       "    <tr>\n",
       "      <th>2</th>\n",
       "      <td>@swonderlin Can not wait for #iPad 2 also. They should sale them down at #SXSW.</td>\n",
       "      <td>iPad</td>\n",
       "      <td>Positive emotion</td>\n",
       "    </tr>\n",
       "    <tr>\n",
       "      <th>3</th>\n",
       "      <td>@sxsw I hope this year's festival isn't as crashy as this year's iPhone app. #sxsw</td>\n",
       "      <td>iPad or iPhone App</td>\n",
       "      <td>Negative emotion</td>\n",
       "    </tr>\n",
       "    <tr>\n",
       "      <th>4</th>\n",
       "      <td>@sxtxstate great stuff on Fri #SXSW: Marissa Mayer (Google), Tim O'Reilly (tech books/conferences) &amp;amp; Matt Mullenweg (Wordpress)</td>\n",
       "      <td>Google</td>\n",
       "      <td>Positive emotion</td>\n",
       "    </tr>\n",
       "  </tbody>\n",
       "</table>\n",
       "</div>"
      ],
      "text/plain": [
       "                                                                                                                                    tweet_text  \\\n",
       "0              .@wesley83 I have a 3G iPhone. After 3 hrs tweeting at #RISE_Austin, it was dead!  I need to upgrade. Plugin stations at #SXSW.   \n",
       "1  @jessedee Know about @fludapp ? Awesome iPad/iPhone app that you'll likely appreciate for its design. Also, they're giving free Ts at #SXSW   \n",
       "2                                                              @swonderlin Can not wait for #iPad 2 also. They should sale them down at #SXSW.   \n",
       "3                                                           @sxsw I hope this year's festival isn't as crashy as this year's iPhone app. #sxsw   \n",
       "4          @sxtxstate great stuff on Fri #SXSW: Marissa Mayer (Google), Tim O'Reilly (tech books/conferences) &amp; Matt Mullenweg (Wordpress)   \n",
       "\n",
       "  emotion_in_tweet_is_directed_at  \\\n",
       "0                          iPhone   \n",
       "1              iPad or iPhone App   \n",
       "2                            iPad   \n",
       "3              iPad or iPhone App   \n",
       "4                          Google   \n",
       "\n",
       "  is_there_an_emotion_directed_at_a_brand_or_product  \n",
       "0                                   Negative emotion  \n",
       "1                                   Positive emotion  \n",
       "2                                   Positive emotion  \n",
       "3                                   Negative emotion  \n",
       "4                                   Positive emotion  "
      ]
     },
     "execution_count": 734,
     "metadata": {},
     "output_type": "execute_result"
    }
   ],
   "source": [
    "df.head()"
   ]
  },
  {
   "cell_type": "code",
   "execution_count": 735,
   "id": "67bd51cd-58c0-4dbc-8aa7-9d27983d1917",
   "metadata": {},
   "outputs": [
    {
     "name": "stdout",
     "output_type": "stream",
     "text": [
      "<class 'pandas.core.frame.DataFrame'>\n",
      "RangeIndex: 9093 entries, 0 to 9092\n",
      "Data columns (total 3 columns):\n",
      " #   Column                                              Non-Null Count  Dtype \n",
      "---  ------                                              --------------  ----- \n",
      " 0   tweet_text                                          9092 non-null   object\n",
      " 1   emotion_in_tweet_is_directed_at                     3291 non-null   object\n",
      " 2   is_there_an_emotion_directed_at_a_brand_or_product  9093 non-null   object\n",
      "dtypes: object(3)\n",
      "memory usage: 213.2+ KB\n"
     ]
    }
   ],
   "source": [
    "df.info()"
   ]
  },
  {
   "cell_type": "code",
   "execution_count": 743,
   "id": "5d73aacc-afa1-4d2b-bac5-e835d5d7bd13",
   "metadata": {},
   "outputs": [
    {
     "data": {
      "text/plain": [
       "1"
      ]
     },
     "execution_count": 743,
     "metadata": {},
     "output_type": "execute_result"
    }
   ],
   "source": [
    "df['tweet_text'].isna().sum()"
   ]
  },
  {
   "cell_type": "code",
   "execution_count": 707,
   "id": "a2c30224-0993-4efc-9039-38ad57c75122",
   "metadata": {},
   "outputs": [
    {
     "data": {
      "text/plain": [
       "emotion_in_tweet_is_directed_at\n",
       "iPad                               946\n",
       "Apple                              661\n",
       "iPad or iPhone App                 470\n",
       "Google                             430\n",
       "iPhone                             297\n",
       "Other Google product or service    293\n",
       "Android App                         81\n",
       "Android                             78\n",
       "Other Apple product or service      35\n",
       "Name: count, dtype: int64"
      ]
     },
     "execution_count": 707,
     "metadata": {},
     "output_type": "execute_result"
    }
   ],
   "source": [
    "df['emotion_in_tweet_is_directed_at'].value_counts()"
   ]
  },
  {
   "cell_type": "code",
   "execution_count": 708,
   "id": "76c36f6d-8c58-4dfc-9129-38f2f13b604f",
   "metadata": {},
   "outputs": [
    {
     "data": {
      "text/plain": [
       "is_there_an_emotion_directed_at_a_brand_or_product\n",
       "No emotion toward brand or product    5389\n",
       "Positive emotion                      2978\n",
       "Negative emotion                       570\n",
       "I can't tell                           156\n",
       "Name: count, dtype: int64"
      ]
     },
     "execution_count": 708,
     "metadata": {},
     "output_type": "execute_result"
    }
   ],
   "source": [
    "df['is_there_an_emotion_directed_at_a_brand_or_product'].value_counts()"
   ]
  },
  {
   "cell_type": "code",
   "execution_count": 709,
   "id": "2db54ec4-27fa-41ef-bb47-c010f81cb4f4",
   "metadata": {},
   "outputs": [],
   "source": [
    "# Rename the column\n",
    "df.rename(columns={'is_there_an_emotion_directed_at_a_brand_or_product': 'Sentiment'}, inplace=True)\n",
    "df.rename(columns={'emotion_in_tweet_is_directed_at': 'Brand'}, inplace=True)\n",
    "df.rename(columns={'tweet_text': 'Tweets'}, inplace=True)"
   ]
  },
  {
   "cell_type": "code",
   "execution_count": 710,
   "id": "4e9dab71-dd66-46df-b0a2-cfe3cf66bfc8",
   "metadata": {},
   "outputs": [
    {
     "data": {
      "text/html": [
       "<div>\n",
       "<style scoped>\n",
       "    .dataframe tbody tr th:only-of-type {\n",
       "        vertical-align: middle;\n",
       "    }\n",
       "\n",
       "    .dataframe tbody tr th {\n",
       "        vertical-align: top;\n",
       "    }\n",
       "\n",
       "    .dataframe thead th {\n",
       "        text-align: right;\n",
       "    }\n",
       "</style>\n",
       "<table border=\"1\" class=\"dataframe\">\n",
       "  <thead>\n",
       "    <tr style=\"text-align: right;\">\n",
       "      <th></th>\n",
       "      <th>Tweets</th>\n",
       "      <th>Brand</th>\n",
       "      <th>Sentiment</th>\n",
       "    </tr>\n",
       "  </thead>\n",
       "  <tbody>\n",
       "    <tr>\n",
       "      <th>0</th>\n",
       "      <td>.@wesley83 I have a 3G iPhone. After 3 hrs tweeting at #RISE_Austin, it was dead!  I need to upgrade. Plugin stations at #SXSW.</td>\n",
       "      <td>iPhone</td>\n",
       "      <td>Negative emotion</td>\n",
       "    </tr>\n",
       "    <tr>\n",
       "      <th>1</th>\n",
       "      <td>@jessedee Know about @fludapp ? Awesome iPad/iPhone app that you'll likely appreciate for its design. Also, they're giving free Ts at #SXSW</td>\n",
       "      <td>iPad or iPhone App</td>\n",
       "      <td>Positive emotion</td>\n",
       "    </tr>\n",
       "    <tr>\n",
       "      <th>2</th>\n",
       "      <td>@swonderlin Can not wait for #iPad 2 also. They should sale them down at #SXSW.</td>\n",
       "      <td>iPad</td>\n",
       "      <td>Positive emotion</td>\n",
       "    </tr>\n",
       "    <tr>\n",
       "      <th>3</th>\n",
       "      <td>@sxsw I hope this year's festival isn't as crashy as this year's iPhone app. #sxsw</td>\n",
       "      <td>iPad or iPhone App</td>\n",
       "      <td>Negative emotion</td>\n",
       "    </tr>\n",
       "    <tr>\n",
       "      <th>4</th>\n",
       "      <td>@sxtxstate great stuff on Fri #SXSW: Marissa Mayer (Google), Tim O'Reilly (tech books/conferences) &amp;amp; Matt Mullenweg (Wordpress)</td>\n",
       "      <td>Google</td>\n",
       "      <td>Positive emotion</td>\n",
       "    </tr>\n",
       "  </tbody>\n",
       "</table>\n",
       "</div>"
      ],
      "text/plain": [
       "                                                                                                                                        Tweets  \\\n",
       "0              .@wesley83 I have a 3G iPhone. After 3 hrs tweeting at #RISE_Austin, it was dead!  I need to upgrade. Plugin stations at #SXSW.   \n",
       "1  @jessedee Know about @fludapp ? Awesome iPad/iPhone app that you'll likely appreciate for its design. Also, they're giving free Ts at #SXSW   \n",
       "2                                                              @swonderlin Can not wait for #iPad 2 also. They should sale them down at #SXSW.   \n",
       "3                                                           @sxsw I hope this year's festival isn't as crashy as this year's iPhone app. #sxsw   \n",
       "4          @sxtxstate great stuff on Fri #SXSW: Marissa Mayer (Google), Tim O'Reilly (tech books/conferences) &amp; Matt Mullenweg (Wordpress)   \n",
       "\n",
       "                Brand         Sentiment  \n",
       "0              iPhone  Negative emotion  \n",
       "1  iPad or iPhone App  Positive emotion  \n",
       "2                iPad  Positive emotion  \n",
       "3  iPad or iPhone App  Negative emotion  \n",
       "4              Google  Positive emotion  "
      ]
     },
     "execution_count": 710,
     "metadata": {},
     "output_type": "execute_result"
    }
   ],
   "source": [
    "df.head()"
   ]
  },
  {
   "cell_type": "code",
   "execution_count": 711,
   "id": "7fee6bb6-8698-4af2-af33-f94998a42255",
   "metadata": {},
   "outputs": [
    {
     "data": {
      "text/plain": [
       "Brand\n",
       "iPad                               946\n",
       "Apple                              661\n",
       "iPad or iPhone App                 470\n",
       "Google                             430\n",
       "iPhone                             297\n",
       "Other Google product or service    293\n",
       "Android App                         81\n",
       "Android                             78\n",
       "Other Apple product or service      35\n",
       "Name: count, dtype: int64"
      ]
     },
     "execution_count": 711,
     "metadata": {},
     "output_type": "execute_result"
    }
   ],
   "source": [
    "df['Brand'].value_counts()"
   ]
  },
  {
   "cell_type": "code",
   "execution_count": 712,
   "id": "26e35b0d-d60a-4457-964b-999937d5fec6",
   "metadata": {},
   "outputs": [
    {
     "name": "stdout",
     "output_type": "stream",
     "text": [
      "Brand\n",
      "Apple     2409\n",
      "Google     882\n",
      "Name: count, dtype: int64\n"
     ]
    }
   ],
   "source": [
    "# Define the mapping for replacement\n",
    "mapping = {\n",
    "    'iPad': 'Apple',\n",
    "    'Apple': 'Apple',\n",
    "    'iPad or iPhone App': 'Apple',\n",
    "    'iPhone': 'Apple',\n",
    "    'Other Apple product or service': 'Apple',\n",
    "    'Google': 'Google',\n",
    "    'Other Google product or service': 'Google',\n",
    "    'Android App': 'Google',\n",
    "    'Android': 'Google'\n",
    "}\n",
    "\n",
    "# Replace the values in the column\n",
    "df['Brand'] = df['Brand'].replace(mapping)\n",
    "\n",
    "# Check the updated value counts\n",
    "print(df['Brand'].value_counts())\n"
   ]
  },
  {
   "cell_type": "code",
   "execution_count": 713,
   "id": "2e29167d-f88e-4677-b40f-6b7202065cd1",
   "metadata": {},
   "outputs": [
    {
     "name": "stdout",
     "output_type": "stream",
     "text": [
      "<class 'pandas.core.frame.DataFrame'>\n",
      "RangeIndex: 9093 entries, 0 to 9092\n",
      "Data columns (total 3 columns):\n",
      " #   Column     Non-Null Count  Dtype \n",
      "---  ------     --------------  ----- \n",
      " 0   Tweets     9092 non-null   object\n",
      " 1   Brand      3291 non-null   object\n",
      " 2   Sentiment  9093 non-null   object\n",
      "dtypes: object(3)\n",
      "memory usage: 213.2+ KB\n"
     ]
    }
   ],
   "source": [
    "df.info()"
   ]
  },
  {
   "cell_type": "code",
   "execution_count": 714,
   "id": "2fb516d7-9866-4d87-aa08-6897bc91d978",
   "metadata": {},
   "outputs": [],
   "source": [
    "# Filter the DataFrame for 'Apple' sentiment\n",
    "Apple_df = df[(df['Brand'] == 'Apple')]"
   ]
  },
  {
   "cell_type": "code",
   "execution_count": 752,
   "id": "a1be06b2-8cd1-4a4d-941a-a44725a2f40d",
   "metadata": {},
   "outputs": [
    {
     "data": {
      "text/plain": [
       "500"
      ]
     },
     "execution_count": 752,
     "metadata": {},
     "output_type": "execute_result"
    }
   ],
   "source": [
    "Apple_df['Brand'].isna().sum()"
   ]
  },
  {
   "cell_type": "code",
   "execution_count": 756,
   "id": "a535f9f1-bc8e-4c47-bf81-7734f3d48591",
   "metadata": {},
   "outputs": [
    {
     "data": {
      "text/html": [
       "<div>\n",
       "<style scoped>\n",
       "    .dataframe tbody tr th:only-of-type {\n",
       "        vertical-align: middle;\n",
       "    }\n",
       "\n",
       "    .dataframe tbody tr th {\n",
       "        vertical-align: top;\n",
       "    }\n",
       "\n",
       "    .dataframe thead th {\n",
       "        text-align: right;\n",
       "    }\n",
       "</style>\n",
       "<table border=\"1\" class=\"dataframe\">\n",
       "  <thead>\n",
       "    <tr style=\"text-align: right;\">\n",
       "      <th></th>\n",
       "      <th>Tweets</th>\n",
       "      <th>Brand</th>\n",
       "      <th>Sentiment</th>\n",
       "      <th>Cleaned_Tweets</th>\n",
       "    </tr>\n",
       "  </thead>\n",
       "  <tbody>\n",
       "    <tr>\n",
       "      <th>0</th>\n",
       "      <td>Someone's buying herself a present ;-) RT @mention Apple Is Opening A Pop-Up Store In Austin For #SXSW {link}</td>\n",
       "      <td>Apple</td>\n",
       "      <td>Positive</td>\n",
       "      <td>someon buy present rt mention appl open pop store austin sxsw link</td>\n",
       "    </tr>\n",
       "    <tr>\n",
       "      <th>1</th>\n",
       "      <td>Just picked up my iPad 2, now back to #sxsw {link}</td>\n",
       "      <td>Apple</td>\n",
       "      <td>Positive</td>\n",
       "      <td>pick ipad 2 back sxsw link</td>\n",
       "    </tr>\n",
       "    <tr>\n",
       "      <th>2</th>\n",
       "      <td>Evernote + iPhone is awesome for #sxsw notes/photos #taccsxsw</td>\n",
       "      <td>Apple</td>\n",
       "      <td>Positive</td>\n",
       "      <td>evernot iphon awesom sxsw note photo taccsxsw</td>\n",
       "    </tr>\n",
       "    <tr>\n",
       "      <th>3</th>\n",
       "      <td>RT @mention Only at #SxSW: &amp;quot;My iPhone will tell me. You know what that means? #winning&amp;quot; - @mention</td>\n",
       "      <td>Apple</td>\n",
       "      <td>Positive</td>\n",
       "      <td>rt mention sxsw quot iphon tell know mean win quot mention</td>\n",
       "    </tr>\n",
       "    <tr>\n",
       "      <th>4</th>\n",
       "      <td>I want yall to know Apple built a pop up store in 3 days, only selling the iPad2, wow #sxsw {link}</td>\n",
       "      <td>Apple</td>\n",
       "      <td>Positive</td>\n",
       "      <td>want yall know appl built pop store 3 day sell ipad2 wow sxsw link</td>\n",
       "    </tr>\n",
       "    <tr>\n",
       "      <th>5</th>\n",
       "      <td>very unstable on it I sort of wish the pop-up Apple Store only sold actual apples. Just as a joke. #sxsw</td>\n",
       "      <td>NaN</td>\n",
       "      <td>Negative</td>\n",
       "      <td>unstabl sort wish pop appl store sold actual appl joke sxsw</td>\n",
       "    </tr>\n",
       "    <tr>\n",
       "      <th>6</th>\n",
       "      <td>Josh Clark's (@mention iPad UI talk is fabulous. Full of objective critiques and insightful suggestions. {link} #sxsw</td>\n",
       "      <td>Apple</td>\n",
       "      <td>Positive</td>\n",
       "      <td>josh clark mention ipad ui talk fabul full object critiqu insight suggest link sxsw</td>\n",
       "    </tr>\n",
       "    <tr>\n",
       "      <th>7</th>\n",
       "      <td>I sort of wish the pop-up Apple Store only sold actual apples. Just as a joke. #sxsw</td>\n",
       "      <td>NaN</td>\n",
       "      <td>Neutral</td>\n",
       "      <td>sort wish pop appl store sold actual appl joke sxsw</td>\n",
       "    </tr>\n",
       "    <tr>\n",
       "      <th>8</th>\n",
       "      <td>RT @mention Shut. Up. RT @mention It's not a rumor: Apple is opening a temp store in downtown Austin for #SXSW &amp;amp; the iPad 2 launch. {link}</td>\n",
       "      <td>Apple</td>\n",
       "      <td>Positive</td>\n",
       "      <td>rt mention shut rt mention rumor appl open temp store downtown austin sxsw amp ipad 2 launch link</td>\n",
       "    </tr>\n",
       "    <tr>\n",
       "      <th>9</th>\n",
       "      <td>On its second day in business, the Apple pop-up store appears to be trending. #sxsw #vb (@mention Apple Store, SXSW) [pic]: {link}</td>\n",
       "      <td>Apple</td>\n",
       "      <td>Positive</td>\n",
       "      <td>second day busi appl pop store appear trend sxsw vb mention appl store sxsw pic link</td>\n",
       "    </tr>\n",
       "    <tr>\n",
       "      <th>10</th>\n",
       "      <td>Austinjs autocorrects to Sisyphus on the iPhone. Just sayin'. #sxsw</td>\n",
       "      <td>NaN</td>\n",
       "      <td>Neutral</td>\n",
       "      <td>austinj autocorrect sisyphu iphon sayin sxsw</td>\n",
       "    </tr>\n",
       "    <tr>\n",
       "      <th>11</th>\n",
       "      <td>Just got the new iPhone app from @mention: {link} #sxsw #thankyou</td>\n",
       "      <td>NaN</td>\n",
       "      <td>Neutral</td>\n",
       "      <td>got new iphon app mention link sxsw thankyou</td>\n",
       "    </tr>\n",
       "    <tr>\n",
       "      <th>12</th>\n",
       "      <td>RT @mention Guys, if you ever plan on attending #SXSW, you need 4 things, skinny jeans, flannel shirt, beard and an iPad #imanoutcast...</td>\n",
       "      <td>Apple</td>\n",
       "      <td>Positive</td>\n",
       "      <td>rt mention guy ever plan attend sxsw need 4 thing skinni jean flannel shirt beard ipad imanoutcast</td>\n",
       "    </tr>\n",
       "    <tr>\n",
       "      <th>13</th>\n",
       "      <td>There is nothing sillier than watching people record video with an ipad. #SXSW</td>\n",
       "      <td>Apple</td>\n",
       "      <td>Negative</td>\n",
       "      <td>noth sillier watch peopl record video ipad sxsw</td>\n",
       "    </tr>\n",
       "    <tr>\n",
       "      <th>14</th>\n",
       "      <td>The #SXSW Apple pop-up store was packed even late at night.</td>\n",
       "      <td>NaN</td>\n",
       "      <td>Neutral</td>\n",
       "      <td>sxsw appl pop store pack even late night</td>\n",
       "    </tr>\n",
       "    <tr>\n",
       "      <th>15</th>\n",
       "      <td>@mention we were on the right track RT @mention clever - Apple set to open popup shop in core of #SXSW action {link}</td>\n",
       "      <td>Apple</td>\n",
       "      <td>Positive</td>\n",
       "      <td>mention right track rt mention clever appl set open popup shop core sxsw action link</td>\n",
       "    </tr>\n",
       "    <tr>\n",
       "      <th>16</th>\n",
       "      <td>Apple to open a pop-up store at #SXSW so wannabe-hipsters can feel at home being near their fav store {link}</td>\n",
       "      <td>Apple</td>\n",
       "      <td>Positive</td>\n",
       "      <td>appl open pop store sxsw wannab hipster feel home near fav store link</td>\n",
       "    </tr>\n",
       "    <tr>\n",
       "      <th>17</th>\n",
       "      <td>I wonder if Apple intentionally scheduled the #iPad2 release to coincide with #SXSW. Steve Jobs, you crafty genius, youÛ_</td>\n",
       "      <td>Apple</td>\n",
       "      <td>Positive</td>\n",
       "      <td>wonder appl intent schedul ipad2 releas coincid sxsw steve job crafti geniu û_</td>\n",
       "    </tr>\n",
       "    <tr>\n",
       "      <th>18</th>\n",
       "      <td>There are still iPad 2s to be had, at least at the #sxsw pop-up Apple store. @mention just bought one.</td>\n",
       "      <td>Apple</td>\n",
       "      <td>Positive</td>\n",
       "      <td>still ipad 2s least sxsw pop appl store mention bought one</td>\n",
       "    </tr>\n",
       "    <tr>\n",
       "      <th>19</th>\n",
       "      <td>Two thumbs up for #Popplet. Nice mind mapping app for the ipad and great for taking notes at #sxsw.</td>\n",
       "      <td>Apple</td>\n",
       "      <td>Positive</td>\n",
       "      <td>two thumb popplet nice mind map app ipad great take note sxsw</td>\n",
       "    </tr>\n",
       "    <tr>\n",
       "      <th>20</th>\n",
       "      <td>RT RT @mention The iPad 2 Takes Over #SXSW [VIDEO] {link} RT @mention The iP... {link} #Vegas #News</td>\n",
       "      <td>Apple</td>\n",
       "      <td>Positive</td>\n",
       "      <td>rt rt mention ipad 2 take sxsw video link rt mention ip link vega news</td>\n",
       "    </tr>\n",
       "    <tr>\n",
       "      <th>21</th>\n",
       "      <td>Being @mention #SXSW is making it impossible not 2 succumb 2 upgrading my #iPad. It's a year old &amp;amp; I feel like I'm walking around w a bag phone...</td>\n",
       "      <td>Apple</td>\n",
       "      <td>Positive</td>\n",
       "      <td>mention sxsw make imposs 2 succumb 2 upgrad ipad year old amp feel like walk around w bag phone</td>\n",
       "    </tr>\n",
       "    <tr>\n",
       "      <th>22</th>\n",
       "      <td>RT @mention via @mention Still a big line outside of Apple's pop-up shop, 3 days after iPad's debut. #sxsw</td>\n",
       "      <td>Apple</td>\n",
       "      <td>Positive</td>\n",
       "      <td>rt mention via mention still big line outsid appl pop shop 3 day ipad debut sxsw</td>\n",
       "    </tr>\n",
       "    <tr>\n",
       "      <th>23</th>\n",
       "      <td>Prepping for and attending #SXSW without an iPhone is a dehumanizing experience.</td>\n",
       "      <td>Apple</td>\n",
       "      <td>Positive</td>\n",
       "      <td>prep attend sxsw without iphon dehuman experi</td>\n",
       "    </tr>\n",
       "    <tr>\n",
       "      <th>24</th>\n",
       "      <td>Nothing says DOUCHE CAKE like walking around with a IPAD like it's an Iphone #sxsw</td>\n",
       "      <td>Apple</td>\n",
       "      <td>Negative</td>\n",
       "      <td>noth say douch cake like walk around ipad like iphon sxsw</td>\n",
       "    </tr>\n",
       "    <tr>\n",
       "      <th>25</th>\n",
       "      <td>I sort of wish the pop-up Apple Store only sold actual apples. Just as a joke. #sxsw</td>\n",
       "      <td>NaN</td>\n",
       "      <td>Neutral</td>\n",
       "      <td>sort wish pop appl store sold actual appl joke sxsw</td>\n",
       "    </tr>\n",
       "    <tr>\n",
       "      <th>26</th>\n",
       "      <td>In my next life I'm coming back as an iPad 2. Women can't keep their hands off this thing. #SXSW</td>\n",
       "      <td>Apple</td>\n",
       "      <td>Positive</td>\n",
       "      <td>next life come back ipad 2 women keep hand thing sxsw</td>\n",
       "    </tr>\n",
       "    <tr>\n",
       "      <th>27</th>\n",
       "      <td>RT @mention @mention Go beyond the hour &amp;amp; share positive actions with the world. Download the #EarthHour iPhone app: {link} #SXSW</td>\n",
       "      <td>Apple</td>\n",
       "      <td>Positive</td>\n",
       "      <td>rt mention mention go beyond hour amp share posit action world download earthhour iphon app link sxsw</td>\n",
       "    </tr>\n",
       "    <tr>\n",
       "      <th>28</th>\n",
       "      <td>RT @mention Hipsters w/ oversized earphones pluged into the new IPAD make me happy that Texas has such loose gun laws #SXSW</td>\n",
       "      <td>Apple</td>\n",
       "      <td>Negative</td>\n",
       "      <td>rt mention hipster w overs earphon pluge new ipad make happi texa loos gun law sxsw</td>\n",
       "    </tr>\n",
       "    <tr>\n",
       "      <th>29</th>\n",
       "      <td>RT @mention I also function as an iPad. ÛÏ@mention There sure are a lot of ipads on this flight. And @mention #NerdsUnite #sxswÛ</td>\n",
       "      <td>Apple</td>\n",
       "      <td>Positive</td>\n",
       "      <td>rt mention also function ipad ûï mention sure lot ipad flight mention nerdsunit sxsw û</td>\n",
       "    </tr>\n",
       "    <tr>\n",
       "      <th>30</th>\n",
       "      <td>Attn: dude using the new iPad as a camera in the middle of an overcrowded #sxsw presentation. You rock.</td>\n",
       "      <td>NaN</td>\n",
       "      <td>Neutral</td>\n",
       "      <td>attn dude use new ipad camera middl overcrowd sxsw present rock</td>\n",
       "    </tr>\n",
       "    <tr>\n",
       "      <th>31</th>\n",
       "      <td>No beach parties. But Apple, Apps and Analytics! #GeekSpringBreak #SXSW Style ;) ÛÏ@mention Time to start packing&amp;quot;</td>\n",
       "      <td>Apple</td>\n",
       "      <td>Positive</td>\n",
       "      <td>beach parti appl app analyt geekspringbreak sxsw style ûï mention time start pack quot</td>\n",
       "    </tr>\n",
       "    <tr>\n",
       "      <th>32</th>\n",
       "      <td>RT @mention Details for the iPad 2 giveaway coming tonight, RT this! #SXSW #sxswi - What about folks NOT at SXSW?</td>\n",
       "      <td>Apple</td>\n",
       "      <td>Positive</td>\n",
       "      <td>rt mention detail ipad 2 giveaway come tonight rt sxsw sxswi folk sxsw</td>\n",
       "    </tr>\n",
       "    <tr>\n",
       "      <th>33</th>\n",
       "      <td>RT @mention I got turkey! RT @mention Random Apple Fan just bought lunch for everyone in line at #SXSW Popup Apple Store #ipad2 cc/ @mention</td>\n",
       "      <td>Apple</td>\n",
       "      <td>Positive</td>\n",
       "      <td>rt mention got turkey rt mention random appl fan bought lunch everyon line sxsw popup appl store ipad2 cc mention</td>\n",
       "    </tr>\n",
       "    <tr>\n",
       "      <th>34</th>\n",
       "      <td>Pinoy insights at the SXSW Conf- the conf mobile and IPad app is great you can use this to even plan your day with friends #SXSW</td>\n",
       "      <td>Apple</td>\n",
       "      <td>Positive</td>\n",
       "      <td>pinoy insight sxsw conf conf mobil ipad app great use even plan day friend sxsw</td>\n",
       "    </tr>\n",
       "    <tr>\n",
       "      <th>35</th>\n",
       "      <td>Survival kit provided to folks in line at the #SxSW apple store this morning... Genius!  {link}</td>\n",
       "      <td>Apple</td>\n",
       "      <td>Positive</td>\n",
       "      <td>surviv kit provid folk line sxsw appl store morn geniu link</td>\n",
       "    </tr>\n",
       "    <tr>\n",
       "      <th>36</th>\n",
       "      <td>Nice Move: Apple set to open popup shop in core of #SXSW action {link}</td>\n",
       "      <td>Apple</td>\n",
       "      <td>Positive</td>\n",
       "      <td>nice move appl set open popup shop core sxsw action link</td>\n",
       "    </tr>\n",
       "    <tr>\n",
       "      <th>37</th>\n",
       "      <td>@mention Nice meeting you last night! Confession: I just installed @mention on my iPad &amp;amp; really like it. :-) #SXSW</td>\n",
       "      <td>Apple</td>\n",
       "      <td>Positive</td>\n",
       "      <td>mention nice meet last night confess instal mention ipad amp realli like sxsw</td>\n",
       "    </tr>\n",
       "    <tr>\n",
       "      <th>38</th>\n",
       "      <td>82% of future tablet buyers say they'll choose Apple's iPad See pop-up store at #SXSW {link}</td>\n",
       "      <td>Apple</td>\n",
       "      <td>Positive</td>\n",
       "      <td>82 futur tablet buyer say choos appl ipad see pop store sxsw link</td>\n",
       "    </tr>\n",
       "    <tr>\n",
       "      <th>39</th>\n",
       "      <td>kicking off w/ @mention talking iPad design headaches #sxsw</td>\n",
       "      <td>Apple</td>\n",
       "      <td>Negative</td>\n",
       "      <td>kick w mention talk ipad design headach sxsw</td>\n",
       "    </tr>\n",
       "  </tbody>\n",
       "</table>\n",
       "</div>"
      ],
      "text/plain": [
       "                                                                                                                                                    Tweets  \\\n",
       "0                                            Someone's buying herself a present ;-) RT @mention Apple Is Opening A Pop-Up Store In Austin For #SXSW {link}   \n",
       "1                                                                                                       Just picked up my iPad 2, now back to #sxsw {link}   \n",
       "2                                                                                            Evernote + iPhone is awesome for #sxsw notes/photos #taccsxsw   \n",
       "3                                             RT @mention Only at #SxSW: &quot;My iPhone will tell me. You know what that means? #winning&quot; - @mention   \n",
       "4                                                       I want yall to know Apple built a pop up store in 3 days, only selling the iPad2, wow #sxsw {link}   \n",
       "5                                                 very unstable on it I sort of wish the pop-up Apple Store only sold actual apples. Just as a joke. #sxsw   \n",
       "6                                    Josh Clark's (@mention iPad UI talk is fabulous. Full of objective critiques and insightful suggestions. {link} #sxsw   \n",
       "7                                                                     I sort of wish the pop-up Apple Store only sold actual apples. Just as a joke. #sxsw   \n",
       "8           RT @mention Shut. Up. RT @mention It's not a rumor: Apple is opening a temp store in downtown Austin for #SXSW &amp; the iPad 2 launch. {link}   \n",
       "9                       On its second day in business, the Apple pop-up store appears to be trending. #sxsw #vb (@mention Apple Store, SXSW) [pic]: {link}   \n",
       "10                                                                                     Austinjs autocorrects to Sisyphus on the iPhone. Just sayin'. #sxsw   \n",
       "11                                                                                       Just got the new iPhone app from @mention: {link} #sxsw #thankyou   \n",
       "12                RT @mention Guys, if you ever plan on attending #SXSW, you need 4 things, skinny jeans, flannel shirt, beard and an iPad #imanoutcast...   \n",
       "13                                                                          There is nothing sillier than watching people record video with an ipad. #SXSW   \n",
       "14                                                                                             The #SXSW Apple pop-up store was packed even late at night.   \n",
       "15                                    @mention we were on the right track RT @mention clever - Apple set to open popup shop in core of #SXSW action {link}   \n",
       "16                                            Apple to open a pop-up store at #SXSW so wannabe-hipsters can feel at home being near their fav store {link}   \n",
       "17                              I wonder if Apple intentionally scheduled the #iPad2 release to coincide with #SXSW. Steve Jobs, you crafty genius, youÛ_   \n",
       "18                                                  There are still iPad 2s to be had, at least at the #sxsw pop-up Apple store. @mention just bought one.   \n",
       "19                                                     Two thumbs up for #Popplet. Nice mind mapping app for the ipad and great for taking notes at #sxsw.   \n",
       "20                                                     RT RT @mention The iPad 2 Takes Over #SXSW [VIDEO] {link} RT @mention The iP... {link} #Vegas #News   \n",
       "21  Being @mention #SXSW is making it impossible not 2 succumb 2 upgrading my #iPad. It's a year old &amp; I feel like I'm walking around w a bag phone...   \n",
       "22                                              RT @mention via @mention Still a big line outside of Apple's pop-up shop, 3 days after iPad's debut. #sxsw   \n",
       "23                                                                        Prepping for and attending #SXSW without an iPhone is a dehumanizing experience.   \n",
       "24                                                                      Nothing says DOUCHE CAKE like walking around with a IPAD like it's an Iphone #sxsw   \n",
       "25                                                                    I sort of wish the pop-up Apple Store only sold actual apples. Just as a joke. #sxsw   \n",
       "26                                                        In my next life I'm coming back as an iPad 2. Women can't keep their hands off this thing. #SXSW   \n",
       "27                   RT @mention @mention Go beyond the hour &amp; share positive actions with the world. Download the #EarthHour iPhone app: {link} #SXSW   \n",
       "28                             RT @mention Hipsters w/ oversized earphones pluged into the new IPAD make me happy that Texas has such loose gun laws #SXSW   \n",
       "29                     RT @mention I also function as an iPad. ÛÏ@mention There sure are a lot of ipads on this flight. And @mention #NerdsUnite #sxswÛ   \n",
       "30                                                 Attn: dude using the new iPad as a camera in the middle of an overcrowded #sxsw presentation. You rock.   \n",
       "31                                No beach parties. But Apple, Apps and Analytics! #GeekSpringBreak #SXSW Style ;) ÛÏ@mention Time to start packing&quot;   \n",
       "32                                       RT @mention Details for the iPad 2 giveaway coming tonight, RT this! #SXSW #sxswi - What about folks NOT at SXSW?   \n",
       "33            RT @mention I got turkey! RT @mention Random Apple Fan just bought lunch for everyone in line at #SXSW Popup Apple Store #ipad2 cc/ @mention   \n",
       "34                        Pinoy insights at the SXSW Conf- the conf mobile and IPad app is great you can use this to even plan your day with friends #SXSW   \n",
       "35                                                         Survival kit provided to folks in line at the #SxSW apple store this morning... Genius!  {link}   \n",
       "36                                                                                  Nice Move: Apple set to open popup shop in core of #SXSW action {link}   \n",
       "37                                  @mention Nice meeting you last night! Confession: I just installed @mention on my iPad &amp; really like it. :-) #SXSW   \n",
       "38                                                            82% of future tablet buyers say they'll choose Apple's iPad See pop-up store at #SXSW {link}   \n",
       "39                                                                                             kicking off w/ @mention talking iPad design headaches #sxsw   \n",
       "\n",
       "    Brand Sentiment  \\\n",
       "0   Apple  Positive   \n",
       "1   Apple  Positive   \n",
       "2   Apple  Positive   \n",
       "3   Apple  Positive   \n",
       "4   Apple  Positive   \n",
       "5     NaN  Negative   \n",
       "6   Apple  Positive   \n",
       "7     NaN   Neutral   \n",
       "8   Apple  Positive   \n",
       "9   Apple  Positive   \n",
       "10    NaN   Neutral   \n",
       "11    NaN   Neutral   \n",
       "12  Apple  Positive   \n",
       "13  Apple  Negative   \n",
       "14    NaN   Neutral   \n",
       "15  Apple  Positive   \n",
       "16  Apple  Positive   \n",
       "17  Apple  Positive   \n",
       "18  Apple  Positive   \n",
       "19  Apple  Positive   \n",
       "20  Apple  Positive   \n",
       "21  Apple  Positive   \n",
       "22  Apple  Positive   \n",
       "23  Apple  Positive   \n",
       "24  Apple  Negative   \n",
       "25    NaN   Neutral   \n",
       "26  Apple  Positive   \n",
       "27  Apple  Positive   \n",
       "28  Apple  Negative   \n",
       "29  Apple  Positive   \n",
       "30    NaN   Neutral   \n",
       "31  Apple  Positive   \n",
       "32  Apple  Positive   \n",
       "33  Apple  Positive   \n",
       "34  Apple  Positive   \n",
       "35  Apple  Positive   \n",
       "36  Apple  Positive   \n",
       "37  Apple  Positive   \n",
       "38  Apple  Positive   \n",
       "39  Apple  Negative   \n",
       "\n",
       "                                                                                                       Cleaned_Tweets  \n",
       "0                                                  someon buy present rt mention appl open pop store austin sxsw link  \n",
       "1                                                                                          pick ipad 2 back sxsw link  \n",
       "2                                                                       evernot iphon awesom sxsw note photo taccsxsw  \n",
       "3                                                          rt mention sxsw quot iphon tell know mean win quot mention  \n",
       "4                                                  want yall know appl built pop store 3 day sell ipad2 wow sxsw link  \n",
       "5                                                         unstabl sort wish pop appl store sold actual appl joke sxsw  \n",
       "6                                 josh clark mention ipad ui talk fabul full object critiqu insight suggest link sxsw  \n",
       "7                                                                 sort wish pop appl store sold actual appl joke sxsw  \n",
       "8                   rt mention shut rt mention rumor appl open temp store downtown austin sxsw amp ipad 2 launch link  \n",
       "9                                second day busi appl pop store appear trend sxsw vb mention appl store sxsw pic link  \n",
       "10                                                                       austinj autocorrect sisyphu iphon sayin sxsw  \n",
       "11                                                                       got new iphon app mention link sxsw thankyou  \n",
       "12                 rt mention guy ever plan attend sxsw need 4 thing skinni jean flannel shirt beard ipad imanoutcast  \n",
       "13                                                                    noth sillier watch peopl record video ipad sxsw  \n",
       "14                                                                           sxsw appl pop store pack even late night  \n",
       "15                               mention right track rt mention clever appl set open popup shop core sxsw action link  \n",
       "16                                              appl open pop store sxsw wannab hipster feel home near fav store link  \n",
       "17                                     wonder appl intent schedul ipad2 releas coincid sxsw steve job crafti geniu û_  \n",
       "18                                                         still ipad 2s least sxsw pop appl store mention bought one  \n",
       "19                                                      two thumb popplet nice mind map app ipad great take note sxsw  \n",
       "20                                             rt rt mention ipad 2 take sxsw video link rt mention ip link vega news  \n",
       "21                    mention sxsw make imposs 2 succumb 2 upgrad ipad year old amp feel like walk around w bag phone  \n",
       "22                                   rt mention via mention still big line outsid appl pop shop 3 day ipad debut sxsw  \n",
       "23                                                                      prep attend sxsw without iphon dehuman experi  \n",
       "24                                                          noth say douch cake like walk around ipad like iphon sxsw  \n",
       "25                                                                sort wish pop appl store sold actual appl joke sxsw  \n",
       "26                                                              next life come back ipad 2 women keep hand thing sxsw  \n",
       "27              rt mention mention go beyond hour amp share posit action world download earthhour iphon app link sxsw  \n",
       "28                                rt mention hipster w overs earphon pluge new ipad make happi texa loos gun law sxsw  \n",
       "29                             rt mention also function ipad ûï mention sure lot ipad flight mention nerdsunit sxsw û  \n",
       "30                                                    attn dude use new ipad camera middl overcrowd sxsw present rock  \n",
       "31                             beach parti appl app analyt geekspringbreak sxsw style ûï mention time start pack quot  \n",
       "32                                             rt mention detail ipad 2 giveaway come tonight rt sxsw sxswi folk sxsw  \n",
       "33  rt mention got turkey rt mention random appl fan bought lunch everyon line sxsw popup appl store ipad2 cc mention  \n",
       "34                                    pinoy insight sxsw conf conf mobil ipad app great use even plan day friend sxsw  \n",
       "35                                                        surviv kit provid folk line sxsw appl store morn geniu link  \n",
       "36                                                           nice move appl set open popup shop core sxsw action link  \n",
       "37                                      mention nice meet last night confess instal mention ipad amp realli like sxsw  \n",
       "38                                                  82 futur tablet buyer say choos appl ipad see pop store sxsw link  \n",
       "39                                                                       kick w mention talk ipad design headach sxsw  "
      ]
     },
     "execution_count": 756,
     "metadata": {},
     "output_type": "execute_result"
    }
   ],
   "source": [
    "Apple_df.head(40)"
   ]
  },
  {
   "cell_type": "code",
   "execution_count": 715,
   "id": "8310d32d-ee5c-48cf-8493-7d6c81fe903e",
   "metadata": {},
   "outputs": [
    {
     "data": {
      "text/html": [
       "<div>\n",
       "<style scoped>\n",
       "    .dataframe tbody tr th:only-of-type {\n",
       "        vertical-align: middle;\n",
       "    }\n",
       "\n",
       "    .dataframe tbody tr th {\n",
       "        vertical-align: top;\n",
       "    }\n",
       "\n",
       "    .dataframe thead th {\n",
       "        text-align: right;\n",
       "    }\n",
       "</style>\n",
       "<table border=\"1\" class=\"dataframe\">\n",
       "  <thead>\n",
       "    <tr style=\"text-align: right;\">\n",
       "      <th></th>\n",
       "      <th>Tweets</th>\n",
       "      <th>Brand</th>\n",
       "      <th>Sentiment</th>\n",
       "    </tr>\n",
       "  </thead>\n",
       "  <tbody>\n",
       "    <tr>\n",
       "      <th>0</th>\n",
       "      <td>.@wesley83 I have a 3G iPhone. After 3 hrs tweeting at #RISE_Austin, it was dead!  I need to upgrade. Plugin stations at #SXSW.</td>\n",
       "      <td>Apple</td>\n",
       "      <td>Negative emotion</td>\n",
       "    </tr>\n",
       "    <tr>\n",
       "      <th>1</th>\n",
       "      <td>@jessedee Know about @fludapp ? Awesome iPad/iPhone app that you'll likely appreciate for its design. Also, they're giving free Ts at #SXSW</td>\n",
       "      <td>Apple</td>\n",
       "      <td>Positive emotion</td>\n",
       "    </tr>\n",
       "    <tr>\n",
       "      <th>2</th>\n",
       "      <td>@swonderlin Can not wait for #iPad 2 also. They should sale them down at #SXSW.</td>\n",
       "      <td>Apple</td>\n",
       "      <td>Positive emotion</td>\n",
       "    </tr>\n",
       "    <tr>\n",
       "      <th>3</th>\n",
       "      <td>@sxsw I hope this year's festival isn't as crashy as this year's iPhone app. #sxsw</td>\n",
       "      <td>Apple</td>\n",
       "      <td>Negative emotion</td>\n",
       "    </tr>\n",
       "    <tr>\n",
       "      <th>8</th>\n",
       "      <td>Beautifully smart and simple idea RT @madebymany @thenextweb wrote about our #hollergram iPad app for #sxsw! http://bit.ly/ieaVOB</td>\n",
       "      <td>Apple</td>\n",
       "      <td>Positive emotion</td>\n",
       "    </tr>\n",
       "  </tbody>\n",
       "</table>\n",
       "</div>"
      ],
      "text/plain": [
       "                                                                                                                                        Tweets  \\\n",
       "0              .@wesley83 I have a 3G iPhone. After 3 hrs tweeting at #RISE_Austin, it was dead!  I need to upgrade. Plugin stations at #SXSW.   \n",
       "1  @jessedee Know about @fludapp ? Awesome iPad/iPhone app that you'll likely appreciate for its design. Also, they're giving free Ts at #SXSW   \n",
       "2                                                              @swonderlin Can not wait for #iPad 2 also. They should sale them down at #SXSW.   \n",
       "3                                                           @sxsw I hope this year's festival isn't as crashy as this year's iPhone app. #sxsw   \n",
       "8            Beautifully smart and simple idea RT @madebymany @thenextweb wrote about our #hollergram iPad app for #sxsw! http://bit.ly/ieaVOB   \n",
       "\n",
       "   Brand         Sentiment  \n",
       "0  Apple  Negative emotion  \n",
       "1  Apple  Positive emotion  \n",
       "2  Apple  Positive emotion  \n",
       "3  Apple  Negative emotion  \n",
       "8  Apple  Positive emotion  "
      ]
     },
     "execution_count": 715,
     "metadata": {},
     "output_type": "execute_result"
    }
   ],
   "source": [
    "Apple_df.head()"
   ]
  },
  {
   "cell_type": "code",
   "execution_count": 716,
   "id": "18d55825-a255-42db-8e0d-37e209165dc2",
   "metadata": {},
   "outputs": [
    {
     "name": "stdout",
     "output_type": "stream",
     "text": [
      "<class 'pandas.core.frame.DataFrame'>\n",
      "Index: 2409 entries, 0 to 9088\n",
      "Data columns (total 3 columns):\n",
      " #   Column     Non-Null Count  Dtype \n",
      "---  ------     --------------  ----- \n",
      " 0   Tweets     2409 non-null   object\n",
      " 1   Brand      2409 non-null   object\n",
      " 2   Sentiment  2409 non-null   object\n",
      "dtypes: object(3)\n",
      "memory usage: 75.3+ KB\n"
     ]
    }
   ],
   "source": [
    "Apple_df.info()"
   ]
  },
  {
   "cell_type": "code",
   "execution_count": 717,
   "id": "9216c86e-559a-4edc-b31f-7237583319de",
   "metadata": {},
   "outputs": [
    {
     "data": {
      "text/plain": [
       "Sentiment\n",
       "Positive emotion                      1949\n",
       "Negative emotion                       388\n",
       "No emotion toward brand or product      65\n",
       "I can't tell                             7\n",
       "Name: count, dtype: int64"
      ]
     },
     "execution_count": 717,
     "metadata": {},
     "output_type": "execute_result"
    }
   ],
   "source": [
    "Apple_df['Sentiment'].value_counts()"
   ]
  },
  {
   "cell_type": "code",
   "execution_count": 718,
   "id": "52cc755f-644a-4a33-adaf-f37a2659f879",
   "metadata": {},
   "outputs": [
    {
     "data": {
      "text/html": [
       "<div>\n",
       "<style scoped>\n",
       "    .dataframe tbody tr th:only-of-type {\n",
       "        vertical-align: middle;\n",
       "    }\n",
       "\n",
       "    .dataframe tbody tr th {\n",
       "        vertical-align: top;\n",
       "    }\n",
       "\n",
       "    .dataframe thead th {\n",
       "        text-align: right;\n",
       "    }\n",
       "</style>\n",
       "<table border=\"1\" class=\"dataframe\">\n",
       "  <thead>\n",
       "    <tr style=\"text-align: right;\">\n",
       "      <th></th>\n",
       "      <th>Tweets</th>\n",
       "      <th>Brand</th>\n",
       "      <th>Sentiment</th>\n",
       "    </tr>\n",
       "  </thead>\n",
       "  <tbody>\n",
       "    <tr>\n",
       "      <th>63</th>\n",
       "      <td>#Smile RT @mention I think Apple's &amp;quot;pop-up store&amp;quot; in Austin would be a lot more interesting if it actually, you know... popped up #sxsw</td>\n",
       "      <td>Apple</td>\n",
       "      <td>No emotion toward brand or product</td>\n",
       "    </tr>\n",
       "    <tr>\n",
       "      <th>265</th>\n",
       "      <td>The #SXSW Apple &amp;quot;pop-up&amp;quot; store was nuts. Was still packed at 11:30. {link}</td>\n",
       "      <td>Apple</td>\n",
       "      <td>No emotion toward brand or product</td>\n",
       "    </tr>\n",
       "    <tr>\n",
       "      <th>317</th>\n",
       "      <td>I arrived at #sxsw and my @mention issue hasn't been resolved. Dying to use the iPhone app but cant login. RT@mention @mention we're on it</td>\n",
       "      <td>Apple</td>\n",
       "      <td>No emotion toward brand or product</td>\n",
       "    </tr>\n",
       "    <tr>\n",
       "      <th>601</th>\n",
       "      <td>msc_page: Guy gets tattoo at SXSW so he could win a free iPad2 {link} #sxsw #tattoo #ipadÛ_ {link} #allshare</td>\n",
       "      <td>Apple</td>\n",
       "      <td>No emotion toward brand or product</td>\n",
       "    </tr>\n",
       "    <tr>\n",
       "      <th>668</th>\n",
       "      <td>#sxsw guy in front of me at this panel has an ipad in an etch-a-sketch case...device of wondeR? #iusxsw</td>\n",
       "      <td>Apple</td>\n",
       "      <td>No emotion toward brand or product</td>\n",
       "    </tr>\n",
       "    <tr>\n",
       "      <th>...</th>\n",
       "      <td>...</td>\n",
       "      <td>...</td>\n",
       "      <td>...</td>\n",
       "    </tr>\n",
       "    <tr>\n",
       "      <th>8691</th>\n",
       "      <td>Apple popup store! #SXSW  @mention Apple Store, SXSW {link} #photo</td>\n",
       "      <td>Apple</td>\n",
       "      <td>No emotion toward brand or product</td>\n",
       "    </tr>\n",
       "    <tr>\n",
       "      <th>8722</th>\n",
       "      <td>my wife just tried to call my ATT iphone, only 2 have ATT say my number was not working. is #sxsw taking down all ATT networks nationwide?</td>\n",
       "      <td>Apple</td>\n",
       "      <td>No emotion toward brand or product</td>\n",
       "    </tr>\n",
       "    <tr>\n",
       "      <th>8849</th>\n",
       "      <td>We can't wait to give an iPad to someone at #sxsw. Want in? Just head to www.pep.jobs/upc to enter. (must be present to win)</td>\n",
       "      <td>Apple</td>\n",
       "      <td>No emotion toward brand or product</td>\n",
       "    </tr>\n",
       "    <tr>\n",
       "      <th>8902</th>\n",
       "      <td>@mention Which is to say iPad is going to be ubiquitous a lot faster than anyone expected a year or even 6 mo. ago. #newsapps #sxsw</td>\n",
       "      <td>Apple</td>\n",
       "      <td>No emotion toward brand or product</td>\n",
       "    </tr>\n",
       "    <tr>\n",
       "      <th>9051</th>\n",
       "      <td>@mention You can get an iPad 1 for under $350 now. And they'll be $99 before you know it. Look at iPhone. #newsapps #sxsw</td>\n",
       "      <td>Apple</td>\n",
       "      <td>No emotion toward brand or product</td>\n",
       "    </tr>\n",
       "  </tbody>\n",
       "</table>\n",
       "<p>65 rows × 3 columns</p>\n",
       "</div>"
      ],
      "text/plain": [
       "                                                                                                                                                 Tweets  \\\n",
       "63    #Smile RT @mention I think Apple's &quot;pop-up store&quot; in Austin would be a lot more interesting if it actually, you know... popped up #sxsw   \n",
       "265                                                                The #SXSW Apple &quot;pop-up&quot; store was nuts. Was still packed at 11:30. {link}   \n",
       "317          I arrived at #sxsw and my @mention issue hasn't been resolved. Dying to use the iPhone app but cant login. RT@mention @mention we're on it   \n",
       "601                                       msc_page: Guy gets tattoo at SXSW so he could win a free iPad2 {link} #sxsw #tattoo #ipadÛ_ {link} #allshare   \n",
       "668                                             #sxsw guy in front of me at this panel has an ipad in an etch-a-sketch case...device of wondeR? #iusxsw   \n",
       "...                                                                                                                                                 ...   \n",
       "8691                                                                                 Apple popup store! #SXSW  @mention Apple Store, SXSW {link} #photo   \n",
       "8722         my wife just tried to call my ATT iphone, only 2 have ATT say my number was not working. is #sxsw taking down all ATT networks nationwide?   \n",
       "8849                       We can't wait to give an iPad to someone at #sxsw. Want in? Just head to www.pep.jobs/upc to enter. (must be present to win)   \n",
       "8902                @mention Which is to say iPad is going to be ubiquitous a lot faster than anyone expected a year or even 6 mo. ago. #newsapps #sxsw   \n",
       "9051                          @mention You can get an iPad 1 for under $350 now. And they'll be $99 before you know it. Look at iPhone. #newsapps #sxsw   \n",
       "\n",
       "      Brand                           Sentiment  \n",
       "63    Apple  No emotion toward brand or product  \n",
       "265   Apple  No emotion toward brand or product  \n",
       "317   Apple  No emotion toward brand or product  \n",
       "601   Apple  No emotion toward brand or product  \n",
       "668   Apple  No emotion toward brand or product  \n",
       "...     ...                                 ...  \n",
       "8691  Apple  No emotion toward brand or product  \n",
       "8722  Apple  No emotion toward brand or product  \n",
       "8849  Apple  No emotion toward brand or product  \n",
       "8902  Apple  No emotion toward brand or product  \n",
       "9051  Apple  No emotion toward brand or product  \n",
       "\n",
       "[65 rows x 3 columns]"
      ]
     },
     "execution_count": 718,
     "metadata": {},
     "output_type": "execute_result"
    }
   ],
   "source": [
    "Apple_df[Apple_df['Sentiment'] == \"No emotion toward brand or product\"]\n"
   ]
  },
  {
   "cell_type": "code",
   "execution_count": 719,
   "id": "56f482bd-ac53-478a-b332-6fbfc7ede09c",
   "metadata": {},
   "outputs": [
    {
     "name": "stderr",
     "output_type": "stream",
     "text": [
      "/var/folders/vf/_ggtcvh11slbnt8cr1ghjwxw0000gn/T/ipykernel_51537/2203881896.py:1: SettingWithCopyWarning: \n",
      "A value is trying to be set on a copy of a slice from a DataFrame.\n",
      "Try using .loc[row_indexer,col_indexer] = value instead\n",
      "\n",
      "See the caveats in the documentation: https://pandas.pydata.org/pandas-docs/stable/user_guide/indexing.html#returning-a-view-versus-a-copy\n",
      "  Apple_df['Sentiment'] = Apple_df['Sentiment'].replace({\n"
     ]
    }
   ],
   "source": [
    "Apple_df['Sentiment'] = Apple_df['Sentiment'].replace({\n",
    "    'Negative emotion': 'Negative',\n",
    "    'No emotion toward brand or product': 'Neutral',\n",
    "    'Positive emotion': 'Positive'\n",
    "})\n",
    "Apple_df = Apple_df[Apple_df['Sentiment'] != \"I can't tell\"]"
   ]
  },
  {
   "cell_type": "code",
   "execution_count": 720,
   "id": "6d77caab-fc25-476b-8bb9-4caa4a027f45",
   "metadata": {},
   "outputs": [
    {
     "data": {
      "text/plain": [
       "Sentiment\n",
       "Positive    1949\n",
       "Negative     388\n",
       "Neutral       65\n",
       "Name: count, dtype: int64"
      ]
     },
     "execution_count": 720,
     "metadata": {},
     "output_type": "execute_result"
    }
   ],
   "source": [
    "Apple_df['Sentiment'].value_counts()"
   ]
  },
  {
   "cell_type": "code",
   "execution_count": 721,
   "id": "8f70eb57-0db7-4bb2-8a81-a1fe59b37481",
   "metadata": {},
   "outputs": [
    {
     "name": "stdout",
     "output_type": "stream",
     "text": [
      "<class 'pandas.core.frame.DataFrame'>\n",
      "Index: 2402 entries, 0 to 9088\n",
      "Data columns (total 3 columns):\n",
      " #   Column     Non-Null Count  Dtype \n",
      "---  ------     --------------  ----- \n",
      " 0   Tweets     2402 non-null   object\n",
      " 1   Brand      2402 non-null   object\n",
      " 2   Sentiment  2402 non-null   object\n",
      "dtypes: object(3)\n",
      "memory usage: 75.1+ KB\n"
     ]
    }
   ],
   "source": [
    "Apple_df.info()"
   ]
  },
  {
   "cell_type": "code",
   "execution_count": 758,
   "id": "48ec25a6-511a-4bbb-96e5-26c41889ec7f",
   "metadata": {},
   "outputs": [
    {
     "name": "stdout",
     "output_type": "stream",
     "text": [
      "0                                              Someone's buying herself a present ;-) RT @mention Apple Is Opening A Pop-Up Store In Austin For #SXSW {link}\n",
      "1                                                                                                         Just picked up my iPad 2, now back to #sxsw {link}\n",
      "2                                                                                              Evernote + iPhone is awesome for #sxsw notes/photos #taccsxsw\n",
      "3                                               RT @mention Only at #SxSW: &quot;My iPhone will tell me. You know what that means? #winning&quot; - @mention\n",
      "4                                                         I want yall to know Apple built a pop up store in 3 days, only selling the iPad2, wow #sxsw {link}\n",
      "6                                      Josh Clark's (@mention iPad UI talk is fabulous. Full of objective critiques and insightful suggestions. {link} #sxsw\n",
      "8             RT @mention Shut. Up. RT @mention It's not a rumor: Apple is opening a temp store in downtown Austin for #SXSW &amp; the iPad 2 launch. {link}\n",
      "9                         On its second day in business, the Apple pop-up store appears to be trending. #sxsw #vb (@mention Apple Store, SXSW) [pic]: {link}\n",
      "12                  RT @mention Guys, if you ever plan on attending #SXSW, you need 4 things, skinny jeans, flannel shirt, beard and an iPad #imanoutcast...\n",
      "15                                      @mention we were on the right track RT @mention clever - Apple set to open popup shop in core of #SXSW action {link}\n",
      "16                                              Apple to open a pop-up store at #SXSW so wannabe-hipsters can feel at home being near their fav store {link}\n",
      "17                                I wonder if Apple intentionally scheduled the #iPad2 release to coincide with #SXSW. Steve Jobs, you crafty genius, youÛ_\n",
      "18                                                    There are still iPad 2s to be had, at least at the #sxsw pop-up Apple store. @mention just bought one.\n",
      "19                                                       Two thumbs up for #Popplet. Nice mind mapping app for the ipad and great for taking notes at #sxsw.\n",
      "20                                                       RT RT @mention The iPad 2 Takes Over #SXSW [VIDEO] {link} RT @mention The iP... {link} #Vegas #News\n",
      "21    Being @mention #SXSW is making it impossible not 2 succumb 2 upgrading my #iPad. It's a year old &amp; I feel like I'm walking around w a bag phone...\n",
      "22                                                RT @mention via @mention Still a big line outside of Apple's pop-up shop, 3 days after iPad's debut. #sxsw\n",
      "23                                                                          Prepping for and attending #SXSW without an iPhone is a dehumanizing experience.\n",
      "26                                                          In my next life I'm coming back as an iPad 2. Women can't keep their hands off this thing. #SXSW\n",
      "27                     RT @mention @mention Go beyond the hour &amp; share positive actions with the world. Download the #EarthHour iPhone app: {link} #SXSW\n",
      "29                       RT @mention I also function as an iPad. ÛÏ@mention There sure are a lot of ipads on this flight. And @mention #NerdsUnite #sxswÛ\n",
      "31                                  No beach parties. But Apple, Apps and Analytics! #GeekSpringBreak #SXSW Style ;) ÛÏ@mention Time to start packing&quot;\n",
      "32                                         RT @mention Details for the iPad 2 giveaway coming tonight, RT this! #SXSW #sxswi - What about folks NOT at SXSW?\n",
      "33              RT @mention I got turkey! RT @mention Random Apple Fan just bought lunch for everyone in line at #SXSW Popup Apple Store #ipad2 cc/ @mention\n",
      "34                          Pinoy insights at the SXSW Conf- the conf mobile and IPad app is great you can use this to even plan your day with friends #SXSW\n",
      "Name: Tweets, dtype: object\n"
     ]
    }
   ],
   "source": [
    "# Set pandas display options to show full text without truncation\n",
    "pd.set_option('display.max_colwidth', None)\n",
    "\n",
    "# Filter the DataFrame for tweets with \"Neutral\" sentiment and display the full text\n",
    "neutral_tweets = Apple_df[Apple_df['Sentiment'] == \"Positive\"]['Tweets'].head(25)\n",
    "print(neutral_tweets)\n"
   ]
  },
  {
   "cell_type": "code",
   "execution_count": 723,
   "id": "246bf876-17b4-482f-b940-5f0221386748",
   "metadata": {},
   "outputs": [
    {
     "name": "stdout",
     "output_type": "stream",
     "text": [
      "Stemmed: swonderlin wait ipad 2 also\n"
     ]
    },
    {
     "data": {
      "text/html": [
       "<div>\n",
       "<style scoped>\n",
       "    .dataframe tbody tr th:only-of-type {\n",
       "        vertical-align: middle;\n",
       "    }\n",
       "\n",
       "    .dataframe tbody tr th {\n",
       "        vertical-align: top;\n",
       "    }\n",
       "\n",
       "    .dataframe thead th {\n",
       "        text-align: right;\n",
       "    }\n",
       "</style>\n",
       "<table border=\"1\" class=\"dataframe\">\n",
       "  <thead>\n",
       "    <tr style=\"text-align: right;\">\n",
       "      <th></th>\n",
       "      <th>Tweets</th>\n",
       "      <th>Brand</th>\n",
       "      <th>Sentiment</th>\n",
       "      <th>Cleaned_Tweets</th>\n",
       "    </tr>\n",
       "  </thead>\n",
       "  <tbody>\n",
       "    <tr>\n",
       "      <th>0</th>\n",
       "      <td>.@wesley83 I have a 3G iPhone. After 3 hrs tweeting at #RISE_Austin, it was dead!  I need to upgrade. Plugin stations at #SXSW.</td>\n",
       "      <td>Apple</td>\n",
       "      <td>Negative</td>\n",
       "      <td>wesley83 3g iphon 3 hr tweet rise_austin dead need upgrad plugin station sxsw</td>\n",
       "    </tr>\n",
       "    <tr>\n",
       "      <th>1</th>\n",
       "      <td>@jessedee Know about @fludapp ? Awesome iPad/iPhone app that you'll likely appreciate for its design. Also, they're giving free Ts at #SXSW</td>\n",
       "      <td>Apple</td>\n",
       "      <td>Positive</td>\n",
       "      <td>jessede know fludapp awesom ipad iphon app like appreci design also give free ts sxsw</td>\n",
       "    </tr>\n",
       "    <tr>\n",
       "      <th>2</th>\n",
       "      <td>@swonderlin Can not wait for #iPad 2 also. They should sale them down at #SXSW.</td>\n",
       "      <td>Apple</td>\n",
       "      <td>Positive</td>\n",
       "      <td>swonderlin wait ipad 2 also sale sxsw</td>\n",
       "    </tr>\n",
       "    <tr>\n",
       "      <th>3</th>\n",
       "      <td>@sxsw I hope this year's festival isn't as crashy as this year's iPhone app. #sxsw</td>\n",
       "      <td>Apple</td>\n",
       "      <td>Negative</td>\n",
       "      <td>sxsw hope year festiv crashi year iphon app sxsw</td>\n",
       "    </tr>\n",
       "    <tr>\n",
       "      <th>8</th>\n",
       "      <td>Beautifully smart and simple idea RT @madebymany @thenextweb wrote about our #hollergram iPad app for #sxsw! http://bit.ly/ieaVOB</td>\n",
       "      <td>Apple</td>\n",
       "      <td>Positive</td>\n",
       "      <td>beauti smart simpl idea rt madebymani thenextweb wrote hollergram ipad app sxsw http bit ly ieavob</td>\n",
       "    </tr>\n",
       "  </tbody>\n",
       "</table>\n",
       "</div>"
      ],
      "text/plain": [
       "                                                                                                                                        Tweets  \\\n",
       "0              .@wesley83 I have a 3G iPhone. After 3 hrs tweeting at #RISE_Austin, it was dead!  I need to upgrade. Plugin stations at #SXSW.   \n",
       "1  @jessedee Know about @fludapp ? Awesome iPad/iPhone app that you'll likely appreciate for its design. Also, they're giving free Ts at #SXSW   \n",
       "2                                                              @swonderlin Can not wait for #iPad 2 also. They should sale them down at #SXSW.   \n",
       "3                                                           @sxsw I hope this year's festival isn't as crashy as this year's iPhone app. #sxsw   \n",
       "8            Beautifully smart and simple idea RT @madebymany @thenextweb wrote about our #hollergram iPad app for #sxsw! http://bit.ly/ieaVOB   \n",
       "\n",
       "   Brand Sentiment  \\\n",
       "0  Apple  Negative   \n",
       "1  Apple  Positive   \n",
       "2  Apple  Positive   \n",
       "3  Apple  Negative   \n",
       "8  Apple  Positive   \n",
       "\n",
       "                                                                                       Cleaned_Tweets  \n",
       "0                       wesley83 3g iphon 3 hr tweet rise_austin dead need upgrad plugin station sxsw  \n",
       "1               jessede know fludapp awesom ipad iphon app like appreci design also give free ts sxsw  \n",
       "2                                                               swonderlin wait ipad 2 also sale sxsw  \n",
       "3                                                    sxsw hope year festiv crashi year iphon app sxsw  \n",
       "8  beauti smart simpl idea rt madebymani thenextweb wrote hollergram ipad app sxsw http bit ly ieavob  "
      ]
     },
     "execution_count": 723,
     "metadata": {},
     "output_type": "execute_result"
    }
   ],
   "source": [
    "from nltk.tokenize import RegexpTokenizer\n",
    "from nltk.corpus import stopwords\n",
    "from nltk.stem import PorterStemmer\n",
    "\n",
    "# Define the tokenizer\n",
    "tokenizer = RegexpTokenizer(r'\\w+')\n",
    "\n",
    "# Create a list of stopwords in English\n",
    "stopwords_list = set(stopwords.words('english'))\n",
    "\n",
    "# Create an instance of nltk's PorterStemmer\n",
    "stemmer = PorterStemmer()\n",
    "\n",
    "def preprocess_text(text):\n",
    "    # Standardize case (lowercase the text)\n",
    "    text = text.lower()\n",
    "    # Tokenize text using regex tokenizer\n",
    "    tokens = tokenizer.tokenize(text)\n",
    "    # Remove stopwords\n",
    "    tokens = [token for token in tokens if token not in stopwords_list]\n",
    "    # Apply stemming\n",
    "    tokens = [stemmer.stem(token) for token in tokens]\n",
    "    # Return the preprocessed text\n",
    "    return ' '.join(tokens)\n",
    "\n",
    "# Test the function with stemming\n",
    "stemmed_text = preprocess_text(\"@swonderlin Can not wait for #iPad 2 also. The\")\n",
    "print(\"Stemmed:\", stemmed_text)\n",
    "\n",
    "# Apply preprocess_text function to Apple_df['Tweets']\n",
    "Apple_df['Cleaned_Tweets'] = Apple_df['Tweets'].apply(preprocess_text)\n",
    "\n",
    "# Display the first few rows of the DataFrame to verify the changes\n",
    "Apple_df.head()\n"
   ]
  },
  {
   "cell_type": "code",
   "execution_count": 724,
   "id": "161bdf8f-2d53-4178-a353-729db5171846",
   "metadata": {},
   "outputs": [
    {
     "name": "stdout",
     "output_type": "stream",
     "text": [
      "      000   10  100   11   15  1st   20  2011   24  2nd  ...   yr  zappo  \\\n",
      "0     0.0  0.0  0.0  0.0  0.0  0.0  0.0   0.0  0.0  0.0  ...  0.0    0.0   \n",
      "1     0.0  0.0  0.0  0.0  0.0  0.0  0.0   0.0  0.0  0.0  ...  0.0    0.0   \n",
      "2     0.0  0.0  0.0  0.0  0.0  0.0  0.0   0.0  0.0  0.0  ...  0.0    0.0   \n",
      "3     0.0  0.0  0.0  0.0  0.0  0.0  0.0   0.0  0.0  0.0  ...  0.0    0.0   \n",
      "4     0.0  0.0  0.0  0.0  0.0  0.0  0.0   0.0  0.0  0.0  ...  0.0    0.0   \n",
      "...   ...  ...  ...  ...  ...  ...  ...   ...  ...  ...  ...  ...    ...   \n",
      "2397  0.0  0.0  0.0  0.0  0.0  0.0  0.0   0.0  0.0  0.0  ...  0.0    0.0   \n",
      "2398  0.0  0.0  0.0  0.0  0.0  0.0  0.0   0.0  0.0  0.0  ...  0.0    0.0   \n",
      "2399  0.0  0.0  0.0  0.0  0.0  0.0  0.0   0.0  0.0  0.0  ...  0.0    0.0   \n",
      "2400  0.0  0.0  0.0  0.0  0.0  0.0  0.0   0.0  0.0  0.0  ...  0.0    0.0   \n",
      "2401  0.0  0.0  0.0  0.0  0.0  0.0  0.0   0.0  0.0  0.0  ...  0.0    0.0   \n",
      "\n",
      "      zazzlesxsw  zomg   û_   ûª  ûªll   ûï   ûò   ûó  \n",
      "0       0.000000   0.0  0.0  0.0   0.0  0.0  0.0  0.0  \n",
      "1       0.000000   0.0  0.0  0.0   0.0  0.0  0.0  0.0  \n",
      "2       0.000000   0.0  0.0  0.0   0.0  0.0  0.0  0.0  \n",
      "3       0.000000   0.0  0.0  0.0   0.0  0.0  0.0  0.0  \n",
      "4       0.000000   0.0  0.0  0.0   0.0  0.0  0.0  0.0  \n",
      "...          ...   ...  ...  ...   ...  ...  ...  ...  \n",
      "2397    0.413248   0.0  0.0  0.0   0.0  0.0  0.0  0.0  \n",
      "2398    0.000000   0.0  0.0  0.0   0.0  0.0  0.0  0.0  \n",
      "2399    0.000000   0.0  0.0  0.0   0.0  0.0  0.0  0.0  \n",
      "2400    0.000000   0.0  0.0  0.0   0.0  0.0  0.0  0.0  \n",
      "2401    0.000000   0.0  0.0  0.0   0.0  0.0  0.0  0.0  \n",
      "\n",
      "[2402 rows x 1000 columns]\n"
     ]
    }
   ],
   "source": [
    "from sklearn.feature_extraction.text import TfidfVectorizer\n",
    "\n",
    "# Initialize the TF-IDF vectorizer\n",
    "tfidf_vectorizer = TfidfVectorizer(max_features=1000)  # You can adjust max_features as needed\n",
    "\n",
    "# Fit and transform the cleaned tweets to TF-IDF features\n",
    "tfidf_features = tfidf_vectorizer.fit_transform(Apple_df['Cleaned_Tweets'])\n",
    "\n",
    "# Convert the TF-IDF features to a DataFrame\n",
    "tfidf_df = pd.DataFrame(tfidf_features.toarray(), columns=tfidf_vectorizer.get_feature_names_out())\n",
    "\n",
    "# Display the TF-IDF DataFrame\n",
    "print(tfidf_df)\n"
   ]
  },
  {
   "cell_type": "code",
   "execution_count": 725,
   "id": "974b5e1c-d463-4523-8762-88db437e3280",
   "metadata": {},
   "outputs": [
    {
     "name": "stdout",
     "output_type": "stream",
     "text": [
      "Training set shape: (1681,) (1681,)\n",
      "Testing set shape: (721,) (721,)\n"
     ]
    }
   ],
   "source": [
    "from sklearn.model_selection import train_test_split\n",
    "\n",
    "# Split the data into features (X) and target (y)\n",
    "X = Apple_df['Cleaned_Tweets']\n",
    "y = Apple_df['Sentiment']\n",
    "\n",
    "# Split the data into training and testing sets\n",
    "X_train, X_test, y_train, y_test = train_test_split(X, y, test_size=0.3, random_state=42)\n",
    "\n",
    "# Print the shapes of the training and testing sets\n",
    "print(\"Training set shape:\", X_train.shape, y_train.shape)\n",
    "print(\"Testing set shape:\", X_test.shape, y_test.shape)"
   ]
  },
  {
   "cell_type": "code",
   "execution_count": 726,
   "id": "4bb053a0-9e76-449c-b72d-bea12c40a756",
   "metadata": {},
   "outputs": [
    {
     "name": "stdout",
     "output_type": "stream",
     "text": [
      "              precision    recall  f1-score   support\n",
      "\n",
      "    Negative       1.00      0.05      0.09       121\n",
      "     Neutral       0.00      0.00      0.00        18\n",
      "    Positive       0.81      1.00      0.90       582\n",
      "\n",
      "    accuracy                           0.82       721\n",
      "   macro avg       0.60      0.35      0.33       721\n",
      "weighted avg       0.82      0.82      0.74       721\n",
      "\n"
     ]
    },
    {
     "name": "stderr",
     "output_type": "stream",
     "text": [
      "/Users/trevorjames/anaconda3/envs/learn-env/lib/python3.9/site-packages/sklearn/metrics/_classification.py:1509: UndefinedMetricWarning: Precision is ill-defined and being set to 0.0 in labels with no predicted samples. Use `zero_division` parameter to control this behavior.\n",
      "  _warn_prf(average, modifier, f\"{metric.capitalize()} is\", len(result))\n",
      "/Users/trevorjames/anaconda3/envs/learn-env/lib/python3.9/site-packages/sklearn/metrics/_classification.py:1509: UndefinedMetricWarning: Precision is ill-defined and being set to 0.0 in labels with no predicted samples. Use `zero_division` parameter to control this behavior.\n",
      "  _warn_prf(average, modifier, f\"{metric.capitalize()} is\", len(result))\n",
      "/Users/trevorjames/anaconda3/envs/learn-env/lib/python3.9/site-packages/sklearn/metrics/_classification.py:1509: UndefinedMetricWarning: Precision is ill-defined and being set to 0.0 in labels with no predicted samples. Use `zero_division` parameter to control this behavior.\n",
      "  _warn_prf(average, modifier, f\"{metric.capitalize()} is\", len(result))\n"
     ]
    }
   ],
   "source": [
    "from sklearn.model_selection import train_test_split\n",
    "from sklearn.feature_extraction.text import TfidfVectorizer\n",
    "from sklearn.naive_bayes import MultinomialNB\n",
    "from sklearn.metrics import classification_report\n",
    "\n",
    "# Vectorize the text data using TF-IDF\n",
    "\n",
    "X_train_tfidf = tfidf_vectorizer.fit_transform(X_train)\n",
    "X_test_tfidf = tfidf_vectorizer.transform(X_test)\n",
    "\n",
    "# Choose and train the Naive Bayes classifier\n",
    "nb_classifier = MultinomialNB()\n",
    "nb_classifier.fit(X_train_tfidf, y_train)\n",
    "\n",
    "# Evaluate the model\n",
    "y_pred = nb_classifier.predict(X_test_tfidf)\n",
    "print(classification_report(y_test, y_pred))"
   ]
  },
  {
   "cell_type": "markdown",
   "id": "ba59b8c4-c029-46b3-9556-ce15a53ea8ab",
   "metadata": {},
   "source": [
    "# Adding tweets"
   ]
  },
  {
   "cell_type": "code",
   "execution_count": 727,
   "id": "8973e268-b8e9-4d9b-aa2b-3e19322fced9",
   "metadata": {},
   "outputs": [],
   "source": [
    "import random\n",
    "\n",
    "#Negative sentiment words or phrases\n",
    "negative_words = ['Dismal',\n",
    "'hate',\n",
    "'headaches',\n",
    "'panhandling',\n",
    "'Lost',\n",
    "'corrupted',\n",
    "'crisis',\n",
    "'fail',\n",
    "'annoying',\n",
    "'unreliable',\n",
    "'Techie Fail',\n",
    "'turns you into a douchebag',\n",
    "'crashes every time',\n",
    "'Buttons are a hack',\n",
    "'wow you suck',\n",
    "'very unstable on it',\n",
    "'you suck again this year!',\n",
    "'is fucking insane']\n",
    "# Neutral topics or statements related to Apple\n",
    "neutral_topics = [\n",
    "    \"The #SXSW Apple pop-up store was packed even late at night.\",\n",
    "    \"I'm at #SXSW and my issue with the iPhone app still hasn't been resolved.\",\n",
    "    \"There's a guy in front of me at this panel with an iPad in an etch-a-sketch case.\",\n",
    "    \"I wish the pop-up Apple Store at #SXSW only sold actual apples. Just as a joke.\",\n",
    "    \"Apple has two retail locations in Austin, but in anticipation of all the gadgets...\",\n",
    "    \"I sort of wish the pop-up Apple Store only sold actual apples. Just as a joke. #sxsw\",\n",
    "    \"Just got the new iPhone app from @mention: {link} #sxsw #thankyou\",\n",
    "    \"Austinjs autocorrects to Sisyphus on the iPhone. Just sayin'. #sxsw\",\n",
    "    \"Don't need to charge at #sxsw if you're talking in the sun with your iPhone.\",\n",
    "    \"Looks like I was an hour late for getting an iPad. #SXSW #sadpanda\",\n",
    "    \"Attn: dude using the new iPad as a camera in the middle of an overcrowded #sxsw presentation. You rock.\",\n",
    "    \"Nice to see the speaker sneak in an irrelevant snarky comment about Apple. Class! #sxsw #authenticationdesign\",\n",
    "    \"Tyson's new game for the iPhone can't be as good as the original Mike Tyson's Punchout.\",\n",
    "    \"Aaron P of @mention says iPad is neither the web nor print. #newsapps #sxsw\",\n",
    "    \"The line for the #sxsw Apple Store is oddly not obnoxiously long. #hesayswithtwohoursleft\"]\n",
    "\n",
    "# Generate fake negative tweets about Apple\n",
    "num_negative_tweets = 200\n",
    "fake_negative_tweets = [random.choice(negative_words) + \" \" + random.choice(neutral_topics) for _ in range(num_negative_tweets)]\n",
    "\n",
    "# Generate fake neutral tweets about Apple\n",
    "num_neutral_tweets = 300\n",
    "fake_neutral_tweets = [random.choice(neutral_topics) for _ in range(num_neutral_tweets)]\n",
    "\n",
    "# Print fake tweets\n",
    "#print(\"Fake Negative Tweets about Apple:\")\n",
    "#for tweet in fake_negative_tweets:\n",
    "    #print(\"-\", tweet)\n",
    "\n",
    "#print(\"\\nFake Neutral Tweets about Apple:\")\n",
    "#for tweet in fake_neutral_tweets:\n",
    "    #print(\"-\", tweet)\n"
   ]
  },
  {
   "cell_type": "code",
   "execution_count": 728,
   "id": "49d58d82-775f-4c67-8a08-76190c99d916",
   "metadata": {},
   "outputs": [
    {
     "name": "stdout",
     "output_type": "stream",
     "text": [
      "                                                                                                          Tweets  \\\n",
      "0  Someone's buying herself a present ;-) RT @mention Apple Is Opening A Pop-Up Store In Austin For #SXSW {link}   \n",
      "1                                                             Just picked up my iPad 2, now back to #sxsw {link}   \n",
      "2                                                  Evernote + iPhone is awesome for #sxsw notes/photos #taccsxsw   \n",
      "3   RT @mention Only at #SxSW: &quot;My iPhone will tell me. You know what that means? #winning&quot; - @mention   \n",
      "4             I want yall to know Apple built a pop up store in 3 days, only selling the iPad2, wow #sxsw {link}   \n",
      "\n",
      "   Brand Sentiment  \\\n",
      "0  Apple  Positive   \n",
      "1  Apple  Positive   \n",
      "2  Apple  Positive   \n",
      "3  Apple  Positive   \n",
      "4  Apple  Positive   \n",
      "\n",
      "                                                       Cleaned_Tweets  \n",
      "0  someon buy present rt mention appl open pop store austin sxsw link  \n",
      "1                                          pick ipad 2 back sxsw link  \n",
      "2                       evernot iphon awesom sxsw note photo taccsxsw  \n",
      "3          rt mention sxsw quot iphon tell know mean win quot mention  \n",
      "4  want yall know appl built pop store 3 day sell ipad2 wow sxsw link  \n"
     ]
    }
   ],
   "source": [
    "# Create a DataFrame for fake negative tweets\n",
    "fake_negative_df = pd.DataFrame({\"Tweets\": fake_negative_tweets, \"Sentiment\": \"Negative\"})\n",
    "\n",
    "# Create a DataFrame for fake neutral tweets\n",
    "fake_neutral_df = pd.DataFrame({\"Tweets\": fake_neutral_tweets, \"Sentiment\": \"Neutral\"})\n",
    "\n",
    "# Concatenate the fake tweets DataFrames with Apple_df\n",
    "Apple_df = pd.concat([Apple_df, fake_negative_df, fake_neutral_df], ignore_index=True)\n",
    "\n",
    "# Shuffle the DataFrame to randomize the order of tweets\n",
    "Apple_df = Apple_df.sample(frac=1, random_state=42).reset_index(drop=True)\n",
    "\n",
    "# Print the first few rows of the updated DataFrame\n",
    "print(Apple_df.head())\n"
   ]
  },
  {
   "cell_type": "code",
   "execution_count": 729,
   "id": "b9e3d61d-16b3-49f8-8c6c-6e58af24a249",
   "metadata": {},
   "outputs": [
    {
     "data": {
      "text/plain": [
       "Sentiment\n",
       "Positive    1949\n",
       "Negative     588\n",
       "Neutral      365\n",
       "Name: count, dtype: int64"
      ]
     },
     "execution_count": 729,
     "metadata": {},
     "output_type": "execute_result"
    }
   ],
   "source": [
    "Apple_df['Sentiment'].value_counts()"
   ]
  },
  {
   "cell_type": "code",
   "execution_count": 730,
   "id": "3bb060b3-9fe2-4846-b67f-033c57ab7c95",
   "metadata": {},
   "outputs": [
    {
     "name": "stdout",
     "output_type": "stream",
     "text": [
      "              precision    recall  f1-score   support\n",
      "\n",
      "    Negative       0.13      0.02      0.03       167\n",
      "     Neutral       0.00      0.00      0.00       106\n",
      "    Positive       0.68      0.97      0.80       598\n",
      "\n",
      "    accuracy                           0.67       871\n",
      "   macro avg       0.27      0.33      0.28       871\n",
      "weighted avg       0.49      0.67      0.55       871\n",
      "\n"
     ]
    },
    {
     "name": "stderr",
     "output_type": "stream",
     "text": [
      "/Users/trevorjames/anaconda3/envs/learn-env/lib/python3.9/site-packages/sklearn/metrics/_classification.py:1509: UndefinedMetricWarning: Precision is ill-defined and being set to 0.0 in labels with no predicted samples. Use `zero_division` parameter to control this behavior.\n",
      "  _warn_prf(average, modifier, f\"{metric.capitalize()} is\", len(result))\n",
      "/Users/trevorjames/anaconda3/envs/learn-env/lib/python3.9/site-packages/sklearn/metrics/_classification.py:1509: UndefinedMetricWarning: Precision is ill-defined and being set to 0.0 in labels with no predicted samples. Use `zero_division` parameter to control this behavior.\n",
      "  _warn_prf(average, modifier, f\"{metric.capitalize()} is\", len(result))\n",
      "/Users/trevorjames/anaconda3/envs/learn-env/lib/python3.9/site-packages/sklearn/metrics/_classification.py:1509: UndefinedMetricWarning: Precision is ill-defined and being set to 0.0 in labels with no predicted samples. Use `zero_division` parameter to control this behavior.\n",
      "  _warn_prf(average, modifier, f\"{metric.capitalize()} is\", len(result))\n"
     ]
    }
   ],
   "source": [
    "from sklearn.model_selection import train_test_split\n",
    "\n",
    "# Preprocess the new data\n",
    "Apple_df['Cleaned_Tweets'] = Apple_df['Tweets'].apply(preprocess_text)\n",
    "\n",
    "# Split the data into training and testing sets\n",
    "X_train2, X_test2, y_train2, y_test2 = train_test_split(Apple_df['Cleaned_Tweets'], Apple_df['Sentiment'], test_size=0.3, random_state=42)\n",
    "\n",
    "# Vectorize the new data\n",
    "X_train2_tfidf = tfidf_vectorizer.fit_transform(X_train2)\n",
    "new_data_tfidf = tfidf_vectorizer.transform(X_test2)\n",
    "\n",
    "# Make predictions\n",
    "predictions = nb_classifier.predict(new_data_tfidf)\n",
    "\n",
    "# Print classification report\n",
    "print(classification_report(y_test2, predictions))\n"
   ]
  },
  {
   "cell_type": "code",
   "execution_count": null,
   "id": "b876a80c-2aad-44d3-9398-9f67cdb8ad87",
   "metadata": {},
   "outputs": [],
   "source": []
  },
  {
   "cell_type": "code",
   "execution_count": null,
   "id": "6fa19176-31e7-46d5-832c-acb5b2e31b22",
   "metadata": {},
   "outputs": [],
   "source": []
  },
  {
   "cell_type": "code",
   "execution_count": null,
   "id": "7ca7e0ae-ed34-4801-88c2-102709526a96",
   "metadata": {},
   "outputs": [],
   "source": []
  },
  {
   "cell_type": "code",
   "execution_count": null,
   "id": "77278678-f991-4a10-b266-29bdc1d09167",
   "metadata": {},
   "outputs": [],
   "source": []
  },
  {
   "cell_type": "code",
   "execution_count": null,
   "id": "89312bb9-459d-4385-8b31-a5255c6dbf1b",
   "metadata": {},
   "outputs": [],
   "source": []
  },
  {
   "cell_type": "code",
   "execution_count": null,
   "id": "d8cd8360-a133-4957-b146-69aa02267699",
   "metadata": {},
   "outputs": [],
   "source": []
  },
  {
   "cell_type": "code",
   "execution_count": null,
   "id": "82f563d2-a1a6-4160-afc2-fe3b72816a2a",
   "metadata": {},
   "outputs": [],
   "source": []
  },
  {
   "cell_type": "markdown",
   "id": "f965aad1-b985-43d0-a55a-02bdb6c8d72f",
   "metadata": {},
   "source": [
    "# New Dataset from Kaggle"
   ]
  },
  {
   "cell_type": "code",
   "execution_count": 464,
   "id": "4fb07047-f884-4e19-8379-abd95c91ef7c",
   "metadata": {},
   "outputs": [],
   "source": [
    "df2 = pd.read_csv('data/apple-twitter-sentiment-texts.csv')"
   ]
  },
  {
   "cell_type": "code",
   "execution_count": 465,
   "id": "51761458-533c-4ff2-8679-ecd24dad1956",
   "metadata": {},
   "outputs": [
    {
     "data": {
      "text/html": [
       "<div>\n",
       "<style scoped>\n",
       "    .dataframe tbody tr th:only-of-type {\n",
       "        vertical-align: middle;\n",
       "    }\n",
       "\n",
       "    .dataframe tbody tr th {\n",
       "        vertical-align: top;\n",
       "    }\n",
       "\n",
       "    .dataframe thead th {\n",
       "        text-align: right;\n",
       "    }\n",
       "</style>\n",
       "<table border=\"1\" class=\"dataframe\">\n",
       "  <thead>\n",
       "    <tr style=\"text-align: right;\">\n",
       "      <th></th>\n",
       "      <th>text</th>\n",
       "      <th>sentiment</th>\n",
       "    </tr>\n",
       "  </thead>\n",
       "  <tbody>\n",
       "    <tr>\n",
       "      <th>0</th>\n",
       "      <td>Wow. Yall needa step it up @Apple RT @heynyla:...</td>\n",
       "      <td>-1</td>\n",
       "    </tr>\n",
       "    <tr>\n",
       "      <th>1</th>\n",
       "      <td>What Happened To Apple Inc?   http://t.co/FJEX...</td>\n",
       "      <td>0</td>\n",
       "    </tr>\n",
       "    <tr>\n",
       "      <th>2</th>\n",
       "      <td>Thank u @apple I can now compile all of the pi...</td>\n",
       "      <td>1</td>\n",
       "    </tr>\n",
       "    <tr>\n",
       "      <th>3</th>\n",
       "      <td>The oddly uplifting story of the Apple co-foun...</td>\n",
       "      <td>0</td>\n",
       "    </tr>\n",
       "    <tr>\n",
       "      <th>4</th>\n",
       "      <td>@apple can i exchange my iphone for a differen...</td>\n",
       "      <td>0</td>\n",
       "    </tr>\n",
       "  </tbody>\n",
       "</table>\n",
       "</div>"
      ],
      "text/plain": [
       "                                                text  sentiment\n",
       "0  Wow. Yall needa step it up @Apple RT @heynyla:...         -1\n",
       "1  What Happened To Apple Inc?   http://t.co/FJEX...          0\n",
       "2  Thank u @apple I can now compile all of the pi...          1\n",
       "3  The oddly uplifting story of the Apple co-foun...          0\n",
       "4  @apple can i exchange my iphone for a differen...          0"
      ]
     },
     "execution_count": 465,
     "metadata": {},
     "output_type": "execute_result"
    }
   ],
   "source": [
    "df2.head()"
   ]
  },
  {
   "cell_type": "code",
   "execution_count": 466,
   "id": "e9c1d32d-75f3-410a-bb6e-dba3e9f49ce2",
   "metadata": {},
   "outputs": [
    {
     "name": "stdout",
     "output_type": "stream",
     "text": [
      "<class 'pandas.core.frame.DataFrame'>\n",
      "RangeIndex: 1630 entries, 0 to 1629\n",
      "Data columns (total 2 columns):\n",
      " #   Column     Non-Null Count  Dtype \n",
      "---  ------     --------------  ----- \n",
      " 0   text       1630 non-null   object\n",
      " 1   sentiment  1630 non-null   int64 \n",
      "dtypes: int64(1), object(1)\n",
      "memory usage: 25.6+ KB\n"
     ]
    }
   ],
   "source": [
    "df2.info()"
   ]
  },
  {
   "cell_type": "code",
   "execution_count": 467,
   "id": "6545a817-757b-4902-8ff3-f441f4138868",
   "metadata": {},
   "outputs": [
    {
     "data": {
      "text/plain": [
       "sentiment\n",
       " 0    801\n",
       "-1    686\n",
       " 1    143\n",
       "Name: count, dtype: int64"
      ]
     },
     "execution_count": 467,
     "metadata": {},
     "output_type": "execute_result"
    }
   ],
   "source": [
    "df2['sentiment'].value_counts()"
   ]
  },
  {
   "cell_type": "code",
   "execution_count": 468,
   "id": "784f198f-7076-4c8a-9a76-577723d0a9a1",
   "metadata": {},
   "outputs": [],
   "source": [
    "# Rename the column\n",
    "df2.rename(columns={'text': 'Tweets'}, inplace=True)\n",
    "df2.rename(columns={'sentiment': 'Sentiment'}, inplace=True)"
   ]
  },
  {
   "cell_type": "code",
   "execution_count": 469,
   "id": "6d63f016-2aad-45ef-b7cd-3f8736a0e042",
   "metadata": {},
   "outputs": [
    {
     "name": "stdout",
     "output_type": "stream",
     "text": [
      "<class 'pandas.core.frame.DataFrame'>\n",
      "RangeIndex: 1630 entries, 0 to 1629\n",
      "Data columns (total 2 columns):\n",
      " #   Column     Non-Null Count  Dtype \n",
      "---  ------     --------------  ----- \n",
      " 0   Tweets     1630 non-null   object\n",
      " 1   Sentiment  1630 non-null   int64 \n",
      "dtypes: int64(1), object(1)\n",
      "memory usage: 25.6+ KB\n"
     ]
    }
   ],
   "source": [
    "df2.info()"
   ]
  },
  {
   "cell_type": "code",
   "execution_count": 470,
   "id": "18bb976d-678a-48c3-b31e-09d9e24bfdfd",
   "metadata": {},
   "outputs": [],
   "source": [
    "df2['Sentiment'] = df2['Sentiment'].replace({\n",
    "    -1: 'Negative',\n",
    "    0: 'Neutral',\n",
    "    1: 'Positive'\n",
    "})"
   ]
  },
  {
   "cell_type": "code",
   "execution_count": 471,
   "id": "119262ac-bdaf-4c42-801c-14b687043cf8",
   "metadata": {},
   "outputs": [
    {
     "data": {
      "text/plain": [
       "Sentiment\n",
       "Neutral     801\n",
       "Negative    686\n",
       "Positive    143\n",
       "Name: count, dtype: int64"
      ]
     },
     "execution_count": 471,
     "metadata": {},
     "output_type": "execute_result"
    }
   ],
   "source": [
    "df2['Sentiment'].value_counts()"
   ]
  },
  {
   "cell_type": "code",
   "execution_count": 472,
   "id": "65711fb4-2c43-43bb-aadc-5d4a1237d98e",
   "metadata": {},
   "outputs": [],
   "source": [
    "df2['Brand'] = 'Apple'"
   ]
  },
  {
   "cell_type": "code",
   "execution_count": 473,
   "id": "49c8700e-e7a8-4f9b-b739-4150ed5d03a9",
   "metadata": {},
   "outputs": [
    {
     "name": "stdout",
     "output_type": "stream",
     "text": [
      "<class 'pandas.core.frame.DataFrame'>\n",
      "RangeIndex: 1630 entries, 0 to 1629\n",
      "Data columns (total 3 columns):\n",
      " #   Column     Non-Null Count  Dtype \n",
      "---  ------     --------------  ----- \n",
      " 0   Tweets     1630 non-null   object\n",
      " 1   Sentiment  1630 non-null   object\n",
      " 2   Brand      1630 non-null   object\n",
      "dtypes: object(3)\n",
      "memory usage: 38.3+ KB\n"
     ]
    }
   ],
   "source": [
    "df2.info()"
   ]
  },
  {
   "cell_type": "code",
   "execution_count": 474,
   "id": "b53c6ae5-259c-4a79-9b4f-39d6750239df",
   "metadata": {},
   "outputs": [],
   "source": [
    "Apple_merged_df = pd.concat([Apple_df, df2], ignore_index=True)"
   ]
  },
  {
   "cell_type": "code",
   "execution_count": 475,
   "id": "9a3327cf-c405-4d21-9a9e-344cdeb0d878",
   "metadata": {},
   "outputs": [
    {
     "data": {
      "text/html": [
       "<div>\n",
       "<style scoped>\n",
       "    .dataframe tbody tr th:only-of-type {\n",
       "        vertical-align: middle;\n",
       "    }\n",
       "\n",
       "    .dataframe tbody tr th {\n",
       "        vertical-align: top;\n",
       "    }\n",
       "\n",
       "    .dataframe thead th {\n",
       "        text-align: right;\n",
       "    }\n",
       "</style>\n",
       "<table border=\"1\" class=\"dataframe\">\n",
       "  <thead>\n",
       "    <tr style=\"text-align: right;\">\n",
       "      <th></th>\n",
       "      <th>Tweets</th>\n",
       "      <th>Brand</th>\n",
       "      <th>Sentiment</th>\n",
       "      <th>Cleaned_Tweets</th>\n",
       "    </tr>\n",
       "  </thead>\n",
       "  <tbody>\n",
       "    <tr>\n",
       "      <th>0</th>\n",
       "      <td>Someone's buying herself a present ;-) RT @men...</td>\n",
       "      <td>Apple</td>\n",
       "      <td>Positive</td>\n",
       "      <td>someon buy present rt mention appl open pop st...</td>\n",
       "    </tr>\n",
       "    <tr>\n",
       "      <th>1</th>\n",
       "      <td>Just picked up my iPad 2, now back to #sxsw {l...</td>\n",
       "      <td>Apple</td>\n",
       "      <td>Positive</td>\n",
       "      <td>pick ipad 2 back sxsw link</td>\n",
       "    </tr>\n",
       "    <tr>\n",
       "      <th>2</th>\n",
       "      <td>Evernote + iPhone is awesome for #sxsw notes/p...</td>\n",
       "      <td>Apple</td>\n",
       "      <td>Positive</td>\n",
       "      <td>evernot iphon awesom sxsw note photo taccsxsw</td>\n",
       "    </tr>\n",
       "    <tr>\n",
       "      <th>3</th>\n",
       "      <td>RT @mention Only at #SxSW: &amp;quot;My iPhone wil...</td>\n",
       "      <td>Apple</td>\n",
       "      <td>Positive</td>\n",
       "      <td>rt mention sxsw quot iphon tell know mean win ...</td>\n",
       "    </tr>\n",
       "    <tr>\n",
       "      <th>4</th>\n",
       "      <td>I want yall to know Apple built a pop up store...</td>\n",
       "      <td>Apple</td>\n",
       "      <td>Positive</td>\n",
       "      <td>want yall know appl built pop store 3 day sell...</td>\n",
       "    </tr>\n",
       "  </tbody>\n",
       "</table>\n",
       "</div>"
      ],
      "text/plain": [
       "                                              Tweets  Brand Sentiment  \\\n",
       "0  Someone's buying herself a present ;-) RT @men...  Apple  Positive   \n",
       "1  Just picked up my iPad 2, now back to #sxsw {l...  Apple  Positive   \n",
       "2  Evernote + iPhone is awesome for #sxsw notes/p...  Apple  Positive   \n",
       "3  RT @mention Only at #SxSW: &quot;My iPhone wil...  Apple  Positive   \n",
       "4  I want yall to know Apple built a pop up store...  Apple  Positive   \n",
       "\n",
       "                                      Cleaned_Tweets  \n",
       "0  someon buy present rt mention appl open pop st...  \n",
       "1                         pick ipad 2 back sxsw link  \n",
       "2      evernot iphon awesom sxsw note photo taccsxsw  \n",
       "3  rt mention sxsw quot iphon tell know mean win ...  \n",
       "4  want yall know appl built pop store 3 day sell...  "
      ]
     },
     "execution_count": 475,
     "metadata": {},
     "output_type": "execute_result"
    }
   ],
   "source": [
    "Apple_merged_df.head()"
   ]
  },
  {
   "cell_type": "code",
   "execution_count": 476,
   "id": "b0f2bd02-7b86-408f-bb74-53caebaaf91b",
   "metadata": {},
   "outputs": [
    {
     "name": "stdout",
     "output_type": "stream",
     "text": [
      "<class 'pandas.core.frame.DataFrame'>\n",
      "RangeIndex: 4532 entries, 0 to 4531\n",
      "Data columns (total 4 columns):\n",
      " #   Column          Non-Null Count  Dtype \n",
      "---  ------          --------------  ----- \n",
      " 0   Tweets          4532 non-null   object\n",
      " 1   Brand           4032 non-null   object\n",
      " 2   Sentiment       4532 non-null   object\n",
      " 3   Cleaned_Tweets  2902 non-null   object\n",
      "dtypes: object(4)\n",
      "memory usage: 141.8+ KB\n"
     ]
    }
   ],
   "source": [
    "Apple_merged_df.info()"
   ]
  },
  {
   "cell_type": "code",
   "execution_count": 477,
   "id": "6546d926-4235-4790-82fe-518452229478",
   "metadata": {},
   "outputs": [
    {
     "data": {
      "text/plain": [
       "Sentiment\n",
       "Positive    2092\n",
       "Negative    1274\n",
       "Neutral     1166\n",
       "Name: count, dtype: int64"
      ]
     },
     "execution_count": 477,
     "metadata": {},
     "output_type": "execute_result"
    }
   ],
   "source": [
    "Apple_merged_df['Sentiment'].value_counts()"
   ]
  },
  {
   "cell_type": "code",
   "execution_count": 478,
   "id": "a645a4fb-dca5-4a1e-b2a4-922a0c3a6c70",
   "metadata": {},
   "outputs": [
    {
     "data": {
      "text/plain": [
       "Tweets\n",
       "Still using the original first-generation Iphone #sxsw                                                                          26\n",
       "Attending the Apple SXSW event today. Curious to see what they have in store. #SXSW #Apple                                      25\n",
       "Apple's presence at SXSW is impressive, but I'm not sure if it's worth the hype. #SXSW #Apple                                   23\n",
       "Listening to the Apple panel at SXSW. Neutral on the content so far. #SXSW #Apple                                               21\n",
       "Not feeling particularly excited about the Apple activation at SXSW. It's just okay. #SXSW #Apple                               19\n",
       "                                                                                                                                ..\n",
       "@mention on the other hand, judging by the pop-up store constant line, Apple and the iPad2 are clearly breaking out at #SXSW     1\n",
       "just ordered my ipad 2 and am excited to be at #SXSW, but it all seems silly with what's happening in japan right now.           1\n",
       "Apple's pop-up store plans for #SXSW in Austin {link}                                                                            1\n",
       "Just bought iPad 2. In and out in 15 minutes #SXSW (@mention Apple Store, SXSW w/ 23 others) {link}                              1\n",
       "The iPhone 6 May Have A Longer Upgrade Cycle - If So, Expect Unit Sales To Fall $AAPL #aapl\\r\\nhttp://t.co/eP1ZksHNqJ            1\n",
       "Name: count, Length: 4167, dtype: int64"
      ]
     },
     "execution_count": 478,
     "metadata": {},
     "output_type": "execute_result"
    }
   ],
   "source": [
    "Apple_merged_df['Tweets'].value_counts()"
   ]
  },
  {
   "cell_type": "code",
   "execution_count": null,
   "id": "5b231c97-a3f3-42df-a12d-7782c7edc195",
   "metadata": {},
   "outputs": [],
   "source": []
  }
 ],
 "metadata": {
  "kernelspec": {
   "display_name": "Python 3 (ipykernel)",
   "language": "python",
   "name": "python3"
  },
  "language_info": {
   "codemirror_mode": {
    "name": "ipython",
    "version": 3
   },
   "file_extension": ".py",
   "mimetype": "text/x-python",
   "name": "python",
   "nbconvert_exporter": "python",
   "pygments_lexer": "ipython3",
   "version": "3.9.18"
  }
 },
 "nbformat": 4,
 "nbformat_minor": 5
}
